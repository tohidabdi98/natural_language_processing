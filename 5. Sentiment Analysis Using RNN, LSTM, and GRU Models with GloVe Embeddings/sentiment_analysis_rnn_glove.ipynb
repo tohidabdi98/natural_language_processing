{
  "cells": [
    {
      "cell_type": "code",
      "execution_count": 1,
      "metadata": {
        "colab": {
          "base_uri": "https://localhost:8080/"
        },
        "id": "MwL0h8EdlZsI",
        "outputId": "0c1a70cf-4c6c-49d7-fc80-22b2ebdb4f1e"
      },
      "outputs": [
        {
          "ename": "AttributeError",
          "evalue": "module 'inspect' has no attribute 'formatargspec'",
          "output_type": "error",
          "traceback": [
            "\u001b[1;31m---------------------------------------------------------------------------\u001b[0m",
            "\u001b[1;31mAttributeError\u001b[0m                            Traceback (most recent call last)",
            "Cell \u001b[1;32mIn[1], line 5\u001b[0m\n\u001b[0;32m      3\u001b[0m \u001b[39mimport\u001b[39;00m \u001b[39mpandas\u001b[39;00m \u001b[39mas\u001b[39;00m \u001b[39mpd\u001b[39;00m\n\u001b[0;32m      4\u001b[0m \u001b[39mimport\u001b[39;00m \u001b[39mre\u001b[39;00m\n\u001b[1;32m----> 5\u001b[0m \u001b[39mimport\u001b[39;00m \u001b[39mnltk\u001b[39;00m\n\u001b[0;32m      6\u001b[0m \u001b[39mfrom\u001b[39;00m \u001b[39mnltk\u001b[39;00m\u001b[39m.\u001b[39;00m\u001b[39mtokenize\u001b[39;00m \u001b[39mimport\u001b[39;00m word_tokenize\n\u001b[0;32m      7\u001b[0m \u001b[39mfrom\u001b[39;00m \u001b[39mnltk\u001b[39;00m\u001b[39m.\u001b[39;00m\u001b[39mstem\u001b[39;00m \u001b[39mimport\u001b[39;00m PorterStemmer\n",
            "File \u001b[1;32mc:\\Users\\tohid\\AppData\\Local\\Programs\\Python\\Python311\\Lib\\site-packages\\nltk\\__init__.py:115\u001b[0m\n\u001b[0;32m    108\u001b[0m \u001b[39m###########################################################\u001b[39;00m\n\u001b[0;32m    109\u001b[0m \u001b[39m# TOP-LEVEL MODULES\u001b[39;00m\n\u001b[0;32m    110\u001b[0m \u001b[39m###########################################################\u001b[39;00m\n\u001b[0;32m    111\u001b[0m \n\u001b[0;32m    112\u001b[0m \u001b[39m# Import top-level functionality into top-level namespace\u001b[39;00m\n\u001b[0;32m    114\u001b[0m \u001b[39mfrom\u001b[39;00m \u001b[39mnltk\u001b[39;00m\u001b[39m.\u001b[39;00m\u001b[39mcollocations\u001b[39;00m \u001b[39mimport\u001b[39;00m \u001b[39m*\u001b[39m\n\u001b[1;32m--> 115\u001b[0m \u001b[39mfrom\u001b[39;00m \u001b[39mnltk\u001b[39;00m\u001b[39m.\u001b[39;00m\u001b[39mdecorators\u001b[39;00m \u001b[39mimport\u001b[39;00m decorator, memoize\n\u001b[0;32m    116\u001b[0m \u001b[39mfrom\u001b[39;00m \u001b[39mnltk\u001b[39;00m\u001b[39m.\u001b[39;00m\u001b[39mfeatstruct\u001b[39;00m \u001b[39mimport\u001b[39;00m \u001b[39m*\u001b[39m\n\u001b[0;32m    117\u001b[0m \u001b[39mfrom\u001b[39;00m \u001b[39mnltk\u001b[39;00m\u001b[39m.\u001b[39;00m\u001b[39mgrammar\u001b[39;00m \u001b[39mimport\u001b[39;00m \u001b[39m*\u001b[39m\n",
            "File \u001b[1;32mc:\\Users\\tohid\\AppData\\Local\\Programs\\Python\\Python311\\Lib\\site-packages\\nltk\\decorators.py:187\u001b[0m\n\u001b[0;32m    184\u001b[0m         \u001b[39msetattr\u001b[39m(obj, name, default)\n\u001b[0;32m    185\u001b[0m         \u001b[39mreturn\u001b[39;00m default\n\u001b[1;32m--> 187\u001b[0m \u001b[39m@decorator\u001b[39;49m\n\u001b[0;32m    188\u001b[0m \u001b[39mdef\u001b[39;49;00m \u001b[39mmemoize\u001b[39;49m(func, \u001b[39m*\u001b[39;49margs):\n\u001b[0;32m    189\u001b[0m     dic \u001b[39m=\u001b[39;49m getattr_(func, \u001b[39m\"\u001b[39;49m\u001b[39mmemoize_dic\u001b[39;49m\u001b[39m\"\u001b[39;49m, \u001b[39mdict\u001b[39;49m)\n\u001b[0;32m    190\u001b[0m     \u001b[39m# memoize_dic is created at the first call\u001b[39;49;00m\n",
            "File \u001b[1;32mc:\\Users\\tohid\\AppData\\Local\\Programs\\Python\\Python311\\Lib\\site-packages\\nltk\\decorators.py:176\u001b[0m, in \u001b[0;36mdecorator\u001b[1;34m(caller)\u001b[0m\n\u001b[0;32m    174\u001b[0m     dec_func \u001b[39m=\u001b[39m \u001b[39meval\u001b[39m(src, \u001b[39mdict\u001b[39m(_func_\u001b[39m=\u001b[39mfunc, _call_\u001b[39m=\u001b[39mcaller))\n\u001b[0;32m    175\u001b[0m     \u001b[39mreturn\u001b[39;00m update_wrapper(dec_func, func, infodict)\n\u001b[1;32m--> 176\u001b[0m \u001b[39mreturn\u001b[39;00m update_wrapper(_decorator, caller)\n",
            "File \u001b[1;32mc:\\Users\\tohid\\AppData\\Local\\Programs\\Python\\Python311\\Lib\\site-packages\\nltk\\decorators.py:87\u001b[0m, in \u001b[0;36mupdate_wrapper\u001b[1;34m(wrapper, model, infodict)\u001b[0m\n\u001b[0;32m     86\u001b[0m \u001b[39mdef\u001b[39;00m \u001b[39mupdate_wrapper\u001b[39m(wrapper, model, infodict\u001b[39m=\u001b[39m\u001b[39mNone\u001b[39;00m):\n\u001b[1;32m---> 87\u001b[0m     infodict \u001b[39m=\u001b[39m infodict \u001b[39mor\u001b[39;00m getinfo(model)\n\u001b[0;32m     88\u001b[0m     wrapper\u001b[39m.\u001b[39m\u001b[39m__name__\u001b[39m \u001b[39m=\u001b[39m infodict[\u001b[39m'\u001b[39m\u001b[39mname\u001b[39m\u001b[39m'\u001b[39m]\n\u001b[0;32m     89\u001b[0m     wrapper\u001b[39m.\u001b[39m\u001b[39m__doc__\u001b[39m \u001b[39m=\u001b[39m infodict[\u001b[39m'\u001b[39m\u001b[39mdoc\u001b[39m\u001b[39m'\u001b[39m]\n",
            "File \u001b[1;32mc:\\Users\\tohid\\AppData\\Local\\Programs\\Python\\Python311\\Lib\\site-packages\\nltk\\decorators.py:69\u001b[0m, in \u001b[0;36mgetinfo\u001b[1;34m(func)\u001b[0m\n\u001b[0;32m     67\u001b[0m \u001b[39mif\u001b[39;00m varkwargs:\n\u001b[0;32m     68\u001b[0m     argnames\u001b[39m.\u001b[39mappend(varkwargs)\n\u001b[1;32m---> 69\u001b[0m signature \u001b[39m=\u001b[39m inspect\u001b[39m.\u001b[39;49mformatargspec(regargs, varargs, varkwargs, defaults,\n\u001b[0;32m     70\u001b[0m                                   formatvalue\u001b[39m=\u001b[39m\u001b[39mlambda\u001b[39;00m value: \u001b[39m\"\u001b[39m\u001b[39m\"\u001b[39m)[\u001b[39m1\u001b[39m:\u001b[39m-\u001b[39m\u001b[39m1\u001b[39m]\n\u001b[0;32m     72\u001b[0m \u001b[39m# pypy compatibility\u001b[39;00m\n\u001b[0;32m     73\u001b[0m \u001b[39mif\u001b[39;00m \u001b[39mhasattr\u001b[39m(func, \u001b[39m'\u001b[39m\u001b[39m__closure__\u001b[39m\u001b[39m'\u001b[39m):\n",
            "\u001b[1;31mAttributeError\u001b[0m: module 'inspect' has no attribute 'formatargspec'"
          ]
        }
      ],
      "source": [
        "# Import necessary libraries\n",
        "import requests, zipfile, io\n",
        "import pandas as pd\n",
        "import re\n",
        "import nltk\n",
        "from nltk.tokenize import word_tokenize\n",
        "from nltk.stem import PorterStemmer\n",
        "from nltk.corpus import stopwords\n",
        "import numpy as np\n",
        "from torchtext.vocab import GloVe\n",
        "import torch\n",
        "from torch.utils.data import Dataset, DataLoader\n",
        "import torch.nn as nn\n",
        "import torch.optim as optim\n",
        "import matplotlib.pyplot as plt\n",
        "from tqdm import tqdm\n",
        "from keras.preprocessing.text import Tokenizer\n",
        "from keras.utils import pad_sequences\n",
        "from sklearn.metrics import confusion_matrix\n",
        "\n",
        "nltk.download('punkt')\n",
        "nltk.download('stopwords')\n",
        "global_vectors = GloVe(name='840B', dim=300)"
      ]
    },
    {
      "cell_type": "code",
      "execution_count": null,
      "metadata": {
        "id": "PYZS46pRk5Gq"
      },
      "outputs": [],
      "source": [
        "# Download and extract dataset\n",
        "r = requests.get('http://cs.stanford.edu/people/alecmgo/trainingandtestdata.zip')\n",
        "z = zipfile.ZipFile(io.BytesIO(r.content))\n",
        "z.extractall(\"/content\")"
      ]
    },
    {
      "cell_type": "code",
      "execution_count": null,
      "metadata": {
        "id": "KxwfQPydpyZD"
      },
      "outputs": [],
      "source": [
        "# Create Pandas Dataframe\n",
        "train = pd.read_csv('/content/training.1600000.processed.noemoticon.csv', encoding='latin', header=None)\n",
        "test = pd.read_csv('/content/testdata.manual.2009.06.14.csv', encoding='latin', header=None)\n",
        "\n",
        "train = train.sample(n = 10000)"
      ]
    },
    {
      "cell_type": "code",
      "execution_count": null,
      "metadata": {
        "colab": {
          "base_uri": "https://localhost:8080/",
          "height": 206
        },
        "id": "bcBiYoC_mCyI",
        "outputId": "ff93395d-0894-4d4b-dca0-56617110c6c6"
      },
      "outputs": [
        {
          "data": {
            "text/html": [
              "\n",
              "  <div id=\"df-d6e007f6-cfb3-45ec-b645-d43d6ab6ef5f\">\n",
              "    <div class=\"colab-df-container\">\n",
              "      <div>\n",
              "<style scoped>\n",
              "    .dataframe tbody tr th:only-of-type {\n",
              "        vertical-align: middle;\n",
              "    }\n",
              "\n",
              "    .dataframe tbody tr th {\n",
              "        vertical-align: top;\n",
              "    }\n",
              "\n",
              "    .dataframe thead th {\n",
              "        text-align: right;\n",
              "    }\n",
              "</style>\n",
              "<table border=\"1\" class=\"dataframe\">\n",
              "  <thead>\n",
              "    <tr style=\"text-align: right;\">\n",
              "      <th></th>\n",
              "      <th>0</th>\n",
              "      <th>1</th>\n",
              "      <th>2</th>\n",
              "      <th>3</th>\n",
              "      <th>4</th>\n",
              "      <th>5</th>\n",
              "    </tr>\n",
              "  </thead>\n",
              "  <tbody>\n",
              "    <tr>\n",
              "      <th>819991</th>\n",
              "      <td>4</td>\n",
              "      <td>1553584784</td>\n",
              "      <td>Sat Apr 18 14:39:52 PDT 2009</td>\n",
              "      <td>NO_QUERY</td>\n",
              "      <td>SymonVT</td>\n",
              "      <td>Love U Armin, ASOT400 rox!Greetz From Croatia</td>\n",
              "    </tr>\n",
              "    <tr>\n",
              "      <th>13771</th>\n",
              "      <td>0</td>\n",
              "      <td>1553394668</td>\n",
              "      <td>Sat Apr 18 14:09:03 PDT 2009</td>\n",
              "      <td>NO_QUERY</td>\n",
              "      <td>lindadominique</td>\n",
              "      <td>@RachelsDestiny I took photos but I have to bu...</td>\n",
              "    </tr>\n",
              "    <tr>\n",
              "      <th>327430</th>\n",
              "      <td>0</td>\n",
              "      <td>2009600750</td>\n",
              "      <td>Tue Jun 02 15:58:05 PDT 2009</td>\n",
              "      <td>NO_QUERY</td>\n",
              "      <td>arwenwoods</td>\n",
              "      <td>Rest in peace, Corinne, darling. You'll be sor...</td>\n",
              "    </tr>\n",
              "    <tr>\n",
              "      <th>1336052</th>\n",
              "      <td>4</td>\n",
              "      <td>2017132711</td>\n",
              "      <td>Wed Jun 03 07:54:44 PDT 2009</td>\n",
              "      <td>NO_QUERY</td>\n",
              "      <td>roxytweets</td>\n",
              "      <td>@westlifebunny O_O Thank goodness your mum's a...</td>\n",
              "    </tr>\n",
              "    <tr>\n",
              "      <th>1556683</th>\n",
              "      <td>4</td>\n",
              "      <td>2185422757</td>\n",
              "      <td>Mon Jun 15 17:21:32 PDT 2009</td>\n",
              "      <td>NO_QUERY</td>\n",
              "      <td>shopmollyd</td>\n",
              "      <td>@MJthedog I just followed</td>\n",
              "    </tr>\n",
              "  </tbody>\n",
              "</table>\n",
              "</div>\n",
              "      <button class=\"colab-df-convert\" onclick=\"convertToInteractive('df-d6e007f6-cfb3-45ec-b645-d43d6ab6ef5f')\"\n",
              "              title=\"Convert this dataframe to an interactive table.\"\n",
              "              style=\"display:none;\">\n",
              "        \n",
              "  <svg xmlns=\"http://www.w3.org/2000/svg\" height=\"24px\"viewBox=\"0 0 24 24\"\n",
              "       width=\"24px\">\n",
              "    <path d=\"M0 0h24v24H0V0z\" fill=\"none\"/>\n",
              "    <path d=\"M18.56 5.44l.94 2.06.94-2.06 2.06-.94-2.06-.94-.94-2.06-.94 2.06-2.06.94zm-11 1L8.5 8.5l.94-2.06 2.06-.94-2.06-.94L8.5 2.5l-.94 2.06-2.06.94zm10 10l.94 2.06.94-2.06 2.06-.94-2.06-.94-.94-2.06-.94 2.06-2.06.94z\"/><path d=\"M17.41 7.96l-1.37-1.37c-.4-.4-.92-.59-1.43-.59-.52 0-1.04.2-1.43.59L10.3 9.45l-7.72 7.72c-.78.78-.78 2.05 0 2.83L4 21.41c.39.39.9.59 1.41.59.51 0 1.02-.2 1.41-.59l7.78-7.78 2.81-2.81c.8-.78.8-2.07 0-2.86zM5.41 20L4 18.59l7.72-7.72 1.47 1.35L5.41 20z\"/>\n",
              "  </svg>\n",
              "      </button>\n",
              "      \n",
              "  <style>\n",
              "    .colab-df-container {\n",
              "      display:flex;\n",
              "      flex-wrap:wrap;\n",
              "      gap: 12px;\n",
              "    }\n",
              "\n",
              "    .colab-df-convert {\n",
              "      background-color: #E8F0FE;\n",
              "      border: none;\n",
              "      border-radius: 50%;\n",
              "      cursor: pointer;\n",
              "      display: none;\n",
              "      fill: #1967D2;\n",
              "      height: 32px;\n",
              "      padding: 0 0 0 0;\n",
              "      width: 32px;\n",
              "    }\n",
              "\n",
              "    .colab-df-convert:hover {\n",
              "      background-color: #E2EBFA;\n",
              "      box-shadow: 0px 1px 2px rgba(60, 64, 67, 0.3), 0px 1px 3px 1px rgba(60, 64, 67, 0.15);\n",
              "      fill: #174EA6;\n",
              "    }\n",
              "\n",
              "    [theme=dark] .colab-df-convert {\n",
              "      background-color: #3B4455;\n",
              "      fill: #D2E3FC;\n",
              "    }\n",
              "\n",
              "    [theme=dark] .colab-df-convert:hover {\n",
              "      background-color: #434B5C;\n",
              "      box-shadow: 0px 1px 3px 1px rgba(0, 0, 0, 0.15);\n",
              "      filter: drop-shadow(0px 1px 2px rgba(0, 0, 0, 0.3));\n",
              "      fill: #FFFFFF;\n",
              "    }\n",
              "  </style>\n",
              "\n",
              "      <script>\n",
              "        const buttonEl =\n",
              "          document.querySelector('#df-d6e007f6-cfb3-45ec-b645-d43d6ab6ef5f button.colab-df-convert');\n",
              "        buttonEl.style.display =\n",
              "          google.colab.kernel.accessAllowed ? 'block' : 'none';\n",
              "\n",
              "        async function convertToInteractive(key) {\n",
              "          const element = document.querySelector('#df-d6e007f6-cfb3-45ec-b645-d43d6ab6ef5f');\n",
              "          const dataTable =\n",
              "            await google.colab.kernel.invokeFunction('convertToInteractive',\n",
              "                                                     [key], {});\n",
              "          if (!dataTable) return;\n",
              "\n",
              "          const docLinkHtml = 'Like what you see? Visit the ' +\n",
              "            '<a target=\"_blank\" href=https://colab.research.google.com/notebooks/data_table.ipynb>data table notebook</a>'\n",
              "            + ' to learn more about interactive tables.';\n",
              "          element.innerHTML = '';\n",
              "          dataTable['output_type'] = 'display_data';\n",
              "          await google.colab.output.renderOutput(dataTable, element);\n",
              "          const docLink = document.createElement('div');\n",
              "          docLink.innerHTML = docLinkHtml;\n",
              "          element.appendChild(docLink);\n",
              "        }\n",
              "      </script>\n",
              "    </div>\n",
              "  </div>\n",
              "  "
            ],
            "text/plain": [
              "         0           1                             2         3  \\\n",
              "819991   4  1553584784  Sat Apr 18 14:39:52 PDT 2009  NO_QUERY   \n",
              "13771    0  1553394668  Sat Apr 18 14:09:03 PDT 2009  NO_QUERY   \n",
              "327430   0  2009600750  Tue Jun 02 15:58:05 PDT 2009  NO_QUERY   \n",
              "1336052  4  2017132711  Wed Jun 03 07:54:44 PDT 2009  NO_QUERY   \n",
              "1556683  4  2185422757  Mon Jun 15 17:21:32 PDT 2009  NO_QUERY   \n",
              "\n",
              "                      4                                                  5  \n",
              "819991          SymonVT     Love U Armin, ASOT400 rox!Greetz From Croatia   \n",
              "13771    lindadominique  @RachelsDestiny I took photos but I have to bu...  \n",
              "327430       arwenwoods  Rest in peace, Corinne, darling. You'll be sor...  \n",
              "1336052      roxytweets  @westlifebunny O_O Thank goodness your mum's a...  \n",
              "1556683      shopmollyd                         @MJthedog I just followed   "
            ]
          },
          "execution_count": 4,
          "metadata": {},
          "output_type": "execute_result"
        }
      ],
      "source": [
        "train.head()"
      ]
    },
    {
      "cell_type": "code",
      "execution_count": null,
      "metadata": {
        "id": "fGLV8-0Rmu2z"
      },
      "outputs": [],
      "source": [
        "def preprocess(df):\n",
        "\n",
        "  # Convert all text to lowercase\n",
        "  df[5] = df[5].str.lower()\n",
        "\n",
        "  # Expand clitic contractions\n",
        "  clitic_pattern = r\"b(he|she|it|we|they|I|you|that|there|what|who|how|where|when|why)'([a-zA-Z]+)\\b\"\n",
        "  df[5] = df[5].apply(lambda x: re.sub(clitic_pattern, r\"\\1 \\2\", x))\n",
        "\n",
        "  # Remove URLs\n",
        "  df[5] = df[5].apply(lambda x: re.sub('http://\\S+|https://\\S+','',x))\n",
        "\n",
        "  # Remove punctuation marks\n",
        "  df[5] = df[5].apply(lambda x: re.sub(r'[^\\w\\s]','',x))\n",
        "\n",
        "  # Tokenization\n",
        "  df[5] = df[5].apply(lambda x: word_tokenize(x))\n",
        "\n",
        "  # Stop word removal\n",
        "  stop_words = set(stopwords.words('english'))\n",
        "  df[5] = df[5].apply(lambda x: [word for word in x if word not in stop_words])\n",
        "\n",
        "  # Stemming\n",
        "  stemmer = PorterStemmer()\n",
        "  df[5] = df[5].apply(lambda x: [stemmer.stem(word) for word in x])\n",
        "\n",
        "  return(df)\n",
        "\n",
        "preprocessed_train = preprocess(train)\n",
        "preprocessed_test = preprocess(test)"
      ]
    },
    {
      "cell_type": "code",
      "execution_count": null,
      "metadata": {
        "id": "WRAp2faE8GLx"
      },
      "outputs": [],
      "source": [
        "# Map labels to binary values\n",
        "label_mapping = {0: 0, 4: 1}  # Example mapping\n",
        "preprocessed_train[0] = preprocessed_train[0].replace(label_mapping)\n",
        "preprocessed_test[0] = preprocessed_test[0].replace(label_mapping)\n",
        "preprocessed_test = preprocessed_test[preprocessed_test[0] != 2]\n"
      ]
    },
    {
      "cell_type": "code",
      "execution_count": null,
      "metadata": {
        "id": "QtC0ifco0bRd"
      },
      "outputs": [],
      "source": [
        "# First, create a tokenizer to convert words to numerical values\n",
        "tokenizer = Tokenizer()\n",
        "tokenizer.fit_on_texts(preprocessed_train[5])\n",
        "\n",
        "# Next, convert the lists to numerical values using the tokenizer\n",
        "sequences_train = tokenizer.texts_to_sequences(preprocessed_train[5])\n",
        "sequences_test = tokenizer.texts_to_sequences(preprocessed_test[5])\n",
        "\n",
        "# Finally, pad the sequences so that they are all the same length\n",
        "max_len = 33\n",
        "padded_sequences_train = pad_sequences(sequences_train, maxlen=max_len, padding='pre')\n",
        "padded_sequences_test = pad_sequences(sequences_test, maxlen=max_len, padding='pre')"
      ]
    },
    {
      "cell_type": "code",
      "execution_count": null,
      "metadata": {
        "colab": {
          "base_uri": "https://localhost:8080/"
        },
        "id": "OLaXHmc43aiC",
        "outputId": "75b5373a-084a-4413-e616-a48aec3a703b"
      },
      "outputs": [
        {
          "name": "stderr",
          "output_type": "stream",
          "text": [
            "<ipython-input-8-eff441045597>:13: SettingWithCopyWarning: \n",
            "A value is trying to be set on a copy of a slice from a DataFrame.\n",
            "Try using .loc[row_indexer,col_indexer] = value instead\n",
            "\n",
            "See the caveats in the documentation: https://pandas.pydata.org/pandas-docs/stable/user_guide/indexing.html#returning-a-view-versus-a-copy\n",
            "  preprocessed_test[6] = list_col_test\n"
          ]
        }
      ],
      "source": [
        "# Initialize empty list\n",
        "list_col_train = []\n",
        "list_col_test = []\n",
        "\n",
        "# Loop over each row and append a list of length 25\n",
        "for i in range(preprocessed_train.shape[0]):\n",
        "    list_col_train.append(padded_sequences_train[i])\n",
        "for j in range(preprocessed_test.shape[0]):\n",
        "    list_col_test.append(padded_sequences_test[j])\n",
        "\n",
        "# Assign the resulting list as a new column in the DataFrame\n",
        "preprocessed_train[6] = list_col_train\n",
        "preprocessed_test[6] = list_col_test"
      ]
    },
    {
      "cell_type": "code",
      "execution_count": null,
      "metadata": {
        "id": "kIK_Q1ljV_lC"
      },
      "outputs": [],
      "source": [
        "# Pad the sentences\n",
        "lists_train = preprocessed_train[5]\n",
        "for lst in lists_train:\n",
        "    while len(lst) < max_len:\n",
        "        lst.insert(0, \" \")\n",
        "\n",
        "lists_test = preprocessed_test[5]\n",
        "for lst in lists_test:\n",
        "    while len(lst) < max_len:\n",
        "        lst.insert(0, \" \")"
      ]
    },
    {
      "cell_type": "code",
      "execution_count": null,
      "metadata": {
        "colab": {
          "base_uri": "https://localhost:8080/",
          "height": 472
        },
        "id": "kd9Tf0RjVYBT",
        "outputId": "b81f9fbe-2f30-48c1-ac7b-81944568271e"
      },
      "outputs": [
        {
          "data": {
            "image/png": "[encoded data removed]",
            "text/plain": [
              "<Figure size 640x480 with 1 Axes>"
            ]
          },
          "metadata": {},
          "output_type": "display_data"
        }
      ],
      "source": [
        "# Distribution of classes\n",
        "plt.bar(['negative', 'positive'], preprocessed_train[0].value_counts())\n",
        "plt.xlabel('Class')\n",
        "plt.ylabel('Count')\n",
        "plt.title('Class Distribution')\n",
        "plt.show()"
      ]
    },
    {
      "cell_type": "code",
      "execution_count": null,
      "metadata": {
        "colab": {
          "base_uri": "https://localhost:8080/"
        },
        "id": "ldyGavdIBv_8",
        "outputId": "56062cbd-526c-48eb-d82b-1cbbcaf381ec"
      },
      "outputs": [
        {
          "name": "stderr",
          "output_type": "stream",
          "text": [
            "<ipython-input-11-ad0eb7318df4>:4: DeprecationWarning: `np.float` is a deprecated alias for the builtin `float`. To silence this warning, use `float` by itself. Doing this will not modify any behavior and is safe. If you specifically wanted the numpy scalar type, use `np.float64` here.\n",
            "Deprecated in NumPy 1.20; for more details and guidance: https://numpy.org/devdocs/release/1.20.0-notes.html#deprecations\n",
            "  X_train = np.vstack(X_train).astype(np.float)\n",
            "/usr/local/lib/python3.10/dist-packages/torch/_tensor.py:775: UserWarning: non-inplace resize is deprecated\n",
            "  warnings.warn(\"non-inplace resize is deprecated\")\n",
            "<ipython-input-11-ad0eb7318df4>:12: DeprecationWarning: `np.float` is a deprecated alias for the builtin `float`. To silence this warning, use `float` by itself. Doing this will not modify any behavior and is safe. If you specifically wanted the numpy scalar type, use `np.float64` here.\n",
            "Deprecated in NumPy 1.20; for more details and guidance: https://numpy.org/devdocs/release/1.20.0-notes.html#deprecations\n",
            "  X_test = np.vstack(X_test).astype(np.float)\n"
          ]
        }
      ],
      "source": [
        "# Convert the train DataFrame to a PyTorch tensor\n",
        "X_train = preprocessed_train[6].to_numpy()\n",
        "y_train = preprocessed_train[0].to_numpy()\n",
        "X_train = np.vstack(X_train).astype(np.float)\n",
        "X_train = torch.from_numpy(np.array(X_train))\n",
        "y_train = torch.from_numpy(np.array(y_train))\n",
        "X_train = X_train.resize(X_train.size()[0], 1, max_len)\n",
        "\n",
        "# Convert the test DataFrame to a PyTorch tensor\n",
        "X_test = preprocessed_test[6].to_numpy()\n",
        "y_test = preprocessed_test[0].to_numpy()\n",
        "X_test = np.vstack(X_test).astype(np.float)\n",
        "X_test = torch.from_numpy(np.array(X_test))\n",
        "y_test = torch.from_numpy(np.array(y_test))\n",
        "X_test = X_test.resize(X_test.size()[0], 1, max_len)"
      ]
    },
    {
      "cell_type": "code",
      "execution_count": null,
      "metadata": {
        "id": "qBM5H5F_AyfX"
      },
      "outputs": [],
      "source": [
        "# Get the embeddings\n",
        "sentences_train = preprocessed_train[5].to_numpy()\n",
        "sentences_test = preprocessed_test[5].to_numpy()\n",
        "\n",
        "embedding_train = []\n",
        "for i in range(len(sentences_train)):\n",
        "  try:\n",
        "    embedding = global_vectors.get_vecs_by_tokens(sentences_train[i])\n",
        "    embedding_train.append([embedding])\n",
        "  except:\n",
        "    pass\n",
        "\n",
        "embedding_test = []\n",
        "for j in range(len(sentences_test)):\n",
        "  embedding = global_vectors.get_vecs_by_tokens(sentences_test[j])\n",
        "  embedding_test.append([embedding])"
      ]
    },
    {
      "cell_type": "code",
      "execution_count": null,
      "metadata": {
        "id": "OL6rzEaqFnHB"
      },
      "outputs": [],
      "source": [
        "# Convert the list to a tensor\n",
        "glove_tensor_train = torch.stack([torch.stack(sublist, dim=0) for sublist in embedding_train], dim=0)\n",
        "glove_tensor_test = torch.stack([torch.stack(sublist, dim=0) for sublist in embedding_test], dim=0).resize(359, max_len, 300)\n",
        "\n",
        "shape = glove_tensor_train.shape\n",
        "glove_tensor_train = glove_tensor_train.resize(shape[0], shape[2], shape[3])"
      ]
    },
    {
      "cell_type": "code",
      "execution_count": null,
      "metadata": {
        "id": "LHWI9Yh93Ilc"
      },
      "outputs": [],
      "source": [
        "class RNN(nn.Module):\n",
        "    def __init__(self, input_size, hidden_size, output_size):\n",
        "        super(RNN, self).__init__()\n",
        "        self.rnn = nn.RNN(input_size, hidden_size, batch_first=True)\n",
        "        self.fc = nn.Linear(hidden_size, output_size)\n",
        "\n",
        "    def forward(self, x):\n",
        "        out, _ = self.rnn(x)\n",
        "        out = self.fc(out[:, -1, :])  # Use the last output of the sequence\n",
        "        return out"
      ]
    },
    {
      "cell_type": "code",
      "execution_count": null,
      "metadata": {
        "id": "NUdLUCp5gOnl"
      },
      "outputs": [],
      "source": [
        "class RNN_glove(nn.Module):\n",
        "    def __init__(self, input_size, hidden_size, output_size):\n",
        "        super(RNN_glove, self).__init__()\n",
        "        self.rnn = nn.RNN(input_size, hidden_size, batch_first=True)\n",
        "        self.fc = nn.Linear(hidden_size, output_size)\n",
        "\n",
        "    def forward(self, x):\n",
        "        out, _ = self.rnn(x)\n",
        "        out = self.fc(out[:, -1, :])  # Use the last output of the sequence\n",
        "        return out"
      ]
    },
    {
      "cell_type": "code",
      "execution_count": null,
      "metadata": {
        "id": "M6lkW28KGgCF"
      },
      "outputs": [],
      "source": [
        "class LSTM(nn.Module):\n",
        "    def __init__(self, input_size, hidden_size, output_size):\n",
        "        super(LSTM, self).__init__()\n",
        "        self.rnn = nn.LSTM(input_size, hidden_size, batch_first=True)\n",
        "        self.fc = nn.Linear(hidden_size, output_size)\n",
        "\n",
        "    def forward(self, x):\n",
        "        out, _ = self.rnn(x)\n",
        "        out = self.fc(out[:, -1, :])  # Use the last output of the sequence\n",
        "        return out"
      ]
    },
    {
      "cell_type": "code",
      "execution_count": null,
      "metadata": {
        "id": "GnMHPktjgRyj"
      },
      "outputs": [],
      "source": [
        "class LSTM_glove(nn.Module):\n",
        "    def __init__(self, input_size, hidden_size, output_size):\n",
        "        super(LSTM_glove, self).__init__()\n",
        "        self.rnn = nn.LSTM(input_size, hidden_size, batch_first=True)\n",
        "        self.fc = nn.Linear(hidden_size, output_size)\n",
        "\n",
        "    def forward(self, x):\n",
        "        out, _ = self.rnn(x)\n",
        "        out = self.fc(out[:, -1, :])  # Use the last output of the sequence\n",
        "        return out"
      ]
    },
    {
      "cell_type": "code",
      "execution_count": null,
      "metadata": {
        "id": "kW-kc0hvGjLn"
      },
      "outputs": [],
      "source": [
        "class GRU(nn.Module):\n",
        "    def __init__(self, input_size, hidden_size, output_size):\n",
        "        super(GRU, self).__init__()\n",
        "        self.rnn = nn.GRU(input_size, hidden_size, batch_first=True)\n",
        "        self.fc = nn.Linear(hidden_size, output_size)\n",
        "\n",
        "    def forward(self, x):\n",
        "        out, _ = self.rnn(x)\n",
        "        out = self.fc(out[:, -1, :])  # Use the last output of the sequence\n",
        "        return out"
      ]
    },
    {
      "cell_type": "code",
      "execution_count": null,
      "metadata": {
        "id": "As3SdBJggV0z"
      },
      "outputs": [],
      "source": [
        "class GRU_glove(nn.Module):\n",
        "    def __init__(self, input_size, hidden_size, output_size):\n",
        "        super(GRU_glove, self).__init__()\n",
        "        self.rnn = nn.GRU(input_size, hidden_size, batch_first=True)\n",
        "        self.fc = nn.Linear(hidden_size, output_size)\n",
        "\n",
        "    def forward(self, x):\n",
        "        out, _ = self.rnn(x)\n",
        "        out = self.fc(out[:, -1, :])  # Use the last output of the sequence\n",
        "        return out"
      ]
    },
    {
      "cell_type": "code",
      "execution_count": null,
      "metadata": {
        "id": "g1CJvgb3KOmI"
      },
      "outputs": [],
      "source": [
        "# Define the hyperparameters\n",
        "input_dim = max_len\n",
        "input_dim_glove = 300\n",
        "hidden_dim = 150\n",
        "output_dim = 2\n",
        "epochs = 20\n",
        "lr = 0.001"
      ]
    },
    {
      "cell_type": "code",
      "execution_count": null,
      "metadata": {
        "id": "uFc3BvCEKWxm"
      },
      "outputs": [],
      "source": [
        "# Define the model, loss function, and optimizer\n",
        "RNN = RNN(input_dim, hidden_dim, output_dim)\n",
        "LSTM = LSTM(input_dim, hidden_dim, output_dim)\n",
        "GRU = GRU(input_dim, hidden_dim, output_dim)\n",
        "\n",
        "criterion = nn.CrossEntropyLoss()\n",
        "\n",
        "optimizer_RNN = torch.optim.Adam(RNN.parameters(), lr=lr)\n",
        "optimizer_LSTM = torch.optim.Adam(LSTM.parameters(), lr=lr)\n",
        "optimizer_GRU = torch.optim.Adam(LSTM.parameters(), lr=lr)"
      ]
    },
    {
      "cell_type": "code",
      "execution_count": null,
      "metadata": {
        "id": "-ggKzfl4dJQu"
      },
      "outputs": [],
      "source": [
        "# Define the model, loss function, and optimizer for glove\n",
        "RNN_glove = RNN_glove(input_dim_glove, hidden_dim, output_dim)\n",
        "LSTM_glove = LSTM_glove(input_dim_glove, hidden_dim, output_dim)\n",
        "GRU_glove = GRU_glove(input_dim_glove, hidden_dim, output_dim)\n",
        "\n",
        "optimizer_RNN_glove = torch.optim.Adam(RNN_glove.parameters(), lr=lr)\n",
        "optimizer_LSTM_glove = torch.optim.Adam(LSTM_glove.parameters(), lr=lr)\n",
        "optimizer_GRU_glove = torch.optim.Adam(GRU_glove.parameters(), lr=lr)"
      ]
    },
    {
      "cell_type": "code",
      "execution_count": null,
      "metadata": {
        "colab": {
          "base_uri": "https://localhost:8080/"
        },
        "id": "Ea9GI5TKOFSr",
        "outputId": "a612feba-33ce-45a2-ab05-ee60ac11b610"
      },
      "outputs": [
        {
          "name": "stderr",
          "output_type": "stream",
          "text": [
            " 25%|██▌       | 5/20 [00:00<00:00, 19.70it/s]"
          ]
        },
        {
          "name": "stdout",
          "output_type": "stream",
          "text": [
            "Epoch 1/20, Loss: 0.7285\n",
            "Epoch 2/20, Loss: 0.7171\n",
            "Epoch 3/20, Loss: 0.7085\n",
            "Epoch 4/20, Loss: 0.7034\n",
            "Epoch 5/20, Loss: 0.7001\n"
          ]
        },
        {
          "name": "stderr",
          "output_type": "stream",
          "text": [
            " 50%|█████     | 10/20 [00:00<00:00, 19.93it/s]"
          ]
        },
        {
          "name": "stdout",
          "output_type": "stream",
          "text": [
            "Epoch 6/20, Loss: 0.6970\n",
            "Epoch 7/20, Loss: 0.6944\n",
            "Epoch 8/20, Loss: 0.6925\n",
            "Epoch 9/20, Loss: 0.6907\n",
            "Epoch 10/20, Loss: 0.6893\n"
          ]
        },
        {
          "name": "stderr",
          "output_type": "stream",
          "text": [
            " 70%|███████   | 14/20 [00:00<00:00, 19.26it/s]"
          ]
        },
        {
          "name": "stdout",
          "output_type": "stream",
          "text": [
            "Epoch 11/20, Loss: 0.6878\n",
            "Epoch 12/20, Loss: 0.6863\n",
            "Epoch 13/20, Loss: 0.6853\n",
            "Epoch 14/20, Loss: 0.6844\n"
          ]
        },
        {
          "name": "stderr",
          "output_type": "stream",
          "text": [
            " 95%|█████████▌| 19/20 [00:00<00:00, 19.57it/s]"
          ]
        },
        {
          "name": "stdout",
          "output_type": "stream",
          "text": [
            "Epoch 15/20, Loss: 0.6831\n",
            "Epoch 16/20, Loss: 0.6822\n",
            "Epoch 17/20, Loss: 0.6813\n",
            "Epoch 18/20, Loss: 0.6803\n",
            "Epoch 19/20, Loss: 0.6797\n"
          ]
        },
        {
          "name": "stderr",
          "output_type": "stream",
          "text": [
            "\r100%|██████████| 20/20 [00:01<00:00, 19.42it/s]"
          ]
        },
        {
          "name": "stdout",
          "output_type": "stream",
          "text": [
            "Epoch 20/20, Loss: 0.6791\n"
          ]
        },
        {
          "name": "stderr",
          "output_type": "stream",
          "text": [
            "\n"
          ]
        }
      ],
      "source": [
        "# Train the RNN model\n",
        "for epoch in tqdm(range(epochs)):\n",
        "    RNN.train()\n",
        "    optimizer_RNN.zero_grad()\n",
        "    y_pred = RNN(X_train.float())\n",
        "    loss = criterion(y_pred, y_train)\n",
        "    loss.backward()\n",
        "    optimizer_RNN.step()\n",
        "    print(f\"Epoch {epoch + 1}/{epochs}, Loss: {loss.item():.4f}\")"
      ]
    },
    {
      "cell_type": "code",
      "execution_count": null,
      "metadata": {
        "colab": {
          "base_uri": "https://localhost:8080/"
        },
        "id": "NG2zcUoAeiI3",
        "outputId": "0fe7bd56-b803-40a4-e68f-0ac9413ba12c"
      },
      "outputs": [
        {
          "name": "stdout",
          "output_type": "stream",
          "text": [
            "Accuracy: 0.4930\n"
          ]
        }
      ],
      "source": [
        "RNN.eval()\n",
        "y_pred = RNN(X_test.float())\n",
        "_, predicted = torch.max(y_pred, 1)\n",
        "accuracy = (predicted == y_test).sum().item() / len(y_test)\n",
        "print(f\"Accuracy: {accuracy:.4f}\")"
      ]
    },
    {
      "cell_type": "code",
      "execution_count": null,
      "metadata": {
        "colab": {
          "base_uri": "https://localhost:8080/"
        },
        "id": "Hz18WL_8z0QW",
        "outputId": "b2218848-d4a3-4a3f-f875-4477fd8067af"
      },
      "outputs": [
        {
          "data": {
            "text/plain": [
              "array([[102, 107],\n",
              "       [ 75,  75]])"
            ]
          },
          "execution_count": 25,
          "metadata": {},
          "output_type": "execute_result"
        }
      ],
      "source": [
        "confusion_matrix(predicted, y_test)"
      ]
    },
    {
      "cell_type": "code",
      "execution_count": null,
      "metadata": {
        "colab": {
          "base_uri": "https://localhost:8080/"
        },
        "id": "po89QK5qdR80",
        "outputId": "b4ee3689-7769-4ddc-9d01-551e579d8fbf"
      },
      "outputs": [
        {
          "name": "stderr",
          "output_type": "stream",
          "text": [
            "  5%|▌         | 1/20 [00:03<01:06,  3.52s/it]"
          ]
        },
        {
          "name": "stdout",
          "output_type": "stream",
          "text": [
            "Epoch 1/20, Loss: 0.6978\n"
          ]
        },
        {
          "name": "stderr",
          "output_type": "stream",
          "text": [
            "\r 10%|█         | 2/20 [00:07<01:05,  3.67s/it]"
          ]
        },
        {
          "name": "stdout",
          "output_type": "stream",
          "text": [
            "Epoch 2/20, Loss: 0.6775\n"
          ]
        },
        {
          "name": "stderr",
          "output_type": "stream",
          "text": [
            "\r 15%|█▌        | 3/20 [00:10<01:01,  3.64s/it]"
          ]
        },
        {
          "name": "stdout",
          "output_type": "stream",
          "text": [
            "Epoch 3/20, Loss: 0.6599\n"
          ]
        },
        {
          "name": "stderr",
          "output_type": "stream",
          "text": [
            "\r 20%|██        | 4/20 [00:14<00:55,  3.45s/it]"
          ]
        },
        {
          "name": "stdout",
          "output_type": "stream",
          "text": [
            "Epoch 4/20, Loss: 0.6433\n"
          ]
        },
        {
          "name": "stderr",
          "output_type": "stream",
          "text": [
            "\r 25%|██▌       | 5/20 [00:17<00:50,  3.34s/it]"
          ]
        },
        {
          "name": "stdout",
          "output_type": "stream",
          "text": [
            "Epoch 5/20, Loss: 0.6266\n"
          ]
        },
        {
          "name": "stderr",
          "output_type": "stream",
          "text": [
            "\r 30%|███       | 6/20 [00:21<00:49,  3.54s/it]"
          ]
        },
        {
          "name": "stdout",
          "output_type": "stream",
          "text": [
            "Epoch 6/20, Loss: 0.6096\n"
          ]
        },
        {
          "name": "stderr",
          "output_type": "stream",
          "text": [
            "\r 35%|███▌      | 7/20 [00:24<00:44,  3.42s/it]"
          ]
        },
        {
          "name": "stdout",
          "output_type": "stream",
          "text": [
            "Epoch 7/20, Loss: 0.5939\n"
          ]
        },
        {
          "name": "stderr",
          "output_type": "stream",
          "text": [
            "\r 40%|████      | 8/20 [00:27<00:39,  3.33s/it]"
          ]
        },
        {
          "name": "stdout",
          "output_type": "stream",
          "text": [
            "Epoch 8/20, Loss: 0.5864\n"
          ]
        },
        {
          "name": "stderr",
          "output_type": "stream",
          "text": [
            "\r 45%|████▌     | 9/20 [00:30<00:36,  3.28s/it]"
          ]
        },
        {
          "name": "stdout",
          "output_type": "stream",
          "text": [
            "Epoch 9/20, Loss: 0.5761\n"
          ]
        },
        {
          "name": "stderr",
          "output_type": "stream",
          "text": [
            "\r 50%|█████     | 10/20 [00:34<00:34,  3.50s/it]"
          ]
        },
        {
          "name": "stdout",
          "output_type": "stream",
          "text": [
            "Epoch 10/20, Loss: 0.5644\n"
          ]
        },
        {
          "name": "stderr",
          "output_type": "stream",
          "text": [
            "\r 55%|█████▌    | 11/20 [00:37<00:30,  3.39s/it]"
          ]
        },
        {
          "name": "stdout",
          "output_type": "stream",
          "text": [
            "Epoch 11/20, Loss: 0.5617\n"
          ]
        },
        {
          "name": "stderr",
          "output_type": "stream",
          "text": [
            "\r 60%|██████    | 12/20 [00:40<00:26,  3.32s/it]"
          ]
        },
        {
          "name": "stdout",
          "output_type": "stream",
          "text": [
            "Epoch 12/20, Loss: 0.5615\n"
          ]
        },
        {
          "name": "stderr",
          "output_type": "stream",
          "text": [
            "\r 65%|██████▌   | 13/20 [00:44<00:22,  3.27s/it]"
          ]
        },
        {
          "name": "stdout",
          "output_type": "stream",
          "text": [
            "Epoch 13/20, Loss: 0.5550\n"
          ]
        },
        {
          "name": "stderr",
          "output_type": "stream",
          "text": [
            "\r 70%|███████   | 14/20 [00:48<00:20,  3.50s/it]"
          ]
        },
        {
          "name": "stdout",
          "output_type": "stream",
          "text": [
            "Epoch 14/20, Loss: 0.5493\n"
          ]
        },
        {
          "name": "stderr",
          "output_type": "stream",
          "text": [
            "\r 75%|███████▌  | 15/20 [00:51<00:16,  3.39s/it]"
          ]
        },
        {
          "name": "stdout",
          "output_type": "stream",
          "text": [
            "Epoch 15/20, Loss: 0.5434\n"
          ]
        },
        {
          "name": "stderr",
          "output_type": "stream",
          "text": [
            "\r 80%|████████  | 16/20 [00:54<00:13,  3.33s/it]"
          ]
        },
        {
          "name": "stdout",
          "output_type": "stream",
          "text": [
            "Epoch 16/20, Loss: 0.5393\n"
          ]
        },
        {
          "name": "stderr",
          "output_type": "stream",
          "text": [
            "\r 85%|████████▌ | 17/20 [00:57<00:10,  3.40s/it]"
          ]
        },
        {
          "name": "stdout",
          "output_type": "stream",
          "text": [
            "Epoch 17/20, Loss: 0.5360\n"
          ]
        },
        {
          "name": "stderr",
          "output_type": "stream",
          "text": [
            "\r 90%|█████████ | 18/20 [01:01<00:06,  3.46s/it]"
          ]
        },
        {
          "name": "stdout",
          "output_type": "stream",
          "text": [
            "Epoch 18/20, Loss: 0.5349\n"
          ]
        },
        {
          "name": "stderr",
          "output_type": "stream",
          "text": [
            "\r 95%|█████████▌| 19/20 [01:04<00:03,  3.36s/it]"
          ]
        },
        {
          "name": "stdout",
          "output_type": "stream",
          "text": [
            "Epoch 19/20, Loss: 0.5325\n"
          ]
        },
        {
          "name": "stderr",
          "output_type": "stream",
          "text": [
            "100%|██████████| 20/20 [01:07<00:00,  3.39s/it]"
          ]
        },
        {
          "name": "stdout",
          "output_type": "stream",
          "text": [
            "Epoch 20/20, Loss: 0.5283\n"
          ]
        },
        {
          "name": "stderr",
          "output_type": "stream",
          "text": [
            "\n"
          ]
        }
      ],
      "source": [
        "# Train the RNN model on glove\n",
        "for epoch in tqdm(range(epochs)):\n",
        "    optimizer_RNN_glove.zero_grad()\n",
        "    y_pred = RNN_glove(glove_tensor_train)\n",
        "    loss = criterion(y_pred, y_train)\n",
        "    loss.backward()\n",
        "    optimizer_RNN_glove.step()\n",
        "    print(f\"Epoch {epoch + 1}/{epochs}, Loss: {loss.item():.4f}\")"
      ]
    },
    {
      "cell_type": "code",
      "execution_count": null,
      "metadata": {
        "colab": {
          "base_uri": "https://localhost:8080/"
        },
        "id": "CKPjDsA-gpQM",
        "outputId": "e0979f44-9a98-466a-b2af-2f76a1191e73"
      },
      "outputs": [
        {
          "name": "stdout",
          "output_type": "stream",
          "text": [
            "Accuracy: 0.7632\n"
          ]
        }
      ],
      "source": [
        "RNN_glove.eval()\n",
        "y_pred = RNN_glove(glove_tensor_test.float())\n",
        "_, predicted = torch.max(y_pred, 1)\n",
        "accuracy = (predicted == y_test).sum().item() / len(y_test)\n",
        "print(f\"Accuracy: {accuracy:.4f}\")"
      ]
    },
    {
      "cell_type": "code",
      "execution_count": null,
      "metadata": {
        "colab": {
          "base_uri": "https://localhost:8080/"
        },
        "id": "nIAi2YAcgpQV",
        "outputId": "bb374991-7c98-4d1d-eb0c-b45d232d330f"
      },
      "outputs": [
        {
          "data": {
            "text/plain": [
              "array([[134,  42],\n",
              "       [ 43, 140]])"
            ]
          },
          "execution_count": 28,
          "metadata": {},
          "output_type": "execute_result"
        }
      ],
      "source": [
        "confusion_matrix(predicted, y_test)"
      ]
    },
    {
      "cell_type": "code",
      "execution_count": null,
      "metadata": {
        "colab": {
          "base_uri": "https://localhost:8080/"
        },
        "id": "2BDNkb6gD-g0",
        "outputId": "9e42d3d7-13e6-4e4b-c849-cecdfa175362"
      },
      "outputs": [
        {
          "name": "stderr",
          "output_type": "stream",
          "text": [
            "  5%|▌         | 1/20 [00:00<00:07,  2.54it/s]"
          ]
        },
        {
          "name": "stdout",
          "output_type": "stream",
          "text": [
            "Epoch 1/20, Loss: 0.7039\n"
          ]
        },
        {
          "name": "stderr",
          "output_type": "stream",
          "text": [
            "\r 10%|█         | 2/20 [00:00<00:06,  2.58it/s]"
          ]
        },
        {
          "name": "stdout",
          "output_type": "stream",
          "text": [
            "Epoch 2/20, Loss: 0.6982\n"
          ]
        },
        {
          "name": "stderr",
          "output_type": "stream",
          "text": [
            "\r 15%|█▌        | 3/20 [00:01<00:06,  2.57it/s]"
          ]
        },
        {
          "name": "stdout",
          "output_type": "stream",
          "text": [
            "Epoch 3/20, Loss: 0.6944\n"
          ]
        },
        {
          "name": "stderr",
          "output_type": "stream",
          "text": [
            "\r 20%|██        | 4/20 [00:01<00:06,  2.47it/s]"
          ]
        },
        {
          "name": "stdout",
          "output_type": "stream",
          "text": [
            "Epoch 4/20, Loss: 0.6918\n"
          ]
        },
        {
          "name": "stderr",
          "output_type": "stream",
          "text": [
            "\r 25%|██▌       | 5/20 [00:02<00:06,  2.25it/s]"
          ]
        },
        {
          "name": "stdout",
          "output_type": "stream",
          "text": [
            "Epoch 5/20, Loss: 0.6896\n"
          ]
        },
        {
          "name": "stderr",
          "output_type": "stream",
          "text": [
            "\r 30%|███       | 6/20 [00:02<00:06,  2.13it/s]"
          ]
        },
        {
          "name": "stdout",
          "output_type": "stream",
          "text": [
            "Epoch 6/20, Loss: 0.6874\n"
          ]
        },
        {
          "name": "stderr",
          "output_type": "stream",
          "text": [
            "\r 35%|███▌      | 7/20 [00:03<00:06,  2.05it/s]"
          ]
        },
        {
          "name": "stdout",
          "output_type": "stream",
          "text": [
            "Epoch 7/20, Loss: 0.6855\n"
          ]
        },
        {
          "name": "stderr",
          "output_type": "stream",
          "text": [
            "\r 40%|████      | 8/20 [00:03<00:05,  2.00it/s]"
          ]
        },
        {
          "name": "stdout",
          "output_type": "stream",
          "text": [
            "Epoch 8/20, Loss: 0.6842\n"
          ]
        },
        {
          "name": "stderr",
          "output_type": "stream",
          "text": [
            "\r 45%|████▌     | 9/20 [00:04<00:05,  2.02it/s]"
          ]
        },
        {
          "name": "stdout",
          "output_type": "stream",
          "text": [
            "Epoch 9/20, Loss: 0.6828\n"
          ]
        },
        {
          "name": "stderr",
          "output_type": "stream",
          "text": [
            "\r 50%|█████     | 10/20 [00:04<00:04,  2.19it/s]"
          ]
        },
        {
          "name": "stdout",
          "output_type": "stream",
          "text": [
            "Epoch 10/20, Loss: 0.6816\n"
          ]
        },
        {
          "name": "stderr",
          "output_type": "stream",
          "text": [
            "\r 55%|█████▌    | 11/20 [00:04<00:03,  2.31it/s]"
          ]
        },
        {
          "name": "stdout",
          "output_type": "stream",
          "text": [
            "Epoch 11/20, Loss: 0.6803\n"
          ]
        },
        {
          "name": "stderr",
          "output_type": "stream",
          "text": [
            "\r 60%|██████    | 12/20 [00:05<00:03,  2.39it/s]"
          ]
        },
        {
          "name": "stdout",
          "output_type": "stream",
          "text": [
            "Epoch 12/20, Loss: 0.6793\n"
          ]
        },
        {
          "name": "stderr",
          "output_type": "stream",
          "text": [
            "\r 65%|██████▌   | 13/20 [00:05<00:02,  2.48it/s]"
          ]
        },
        {
          "name": "stdout",
          "output_type": "stream",
          "text": [
            "Epoch 13/20, Loss: 0.6782\n"
          ]
        },
        {
          "name": "stderr",
          "output_type": "stream",
          "text": [
            "\r 70%|███████   | 14/20 [00:06<00:02,  2.54it/s]"
          ]
        },
        {
          "name": "stdout",
          "output_type": "stream",
          "text": [
            "Epoch 14/20, Loss: 0.6770\n"
          ]
        },
        {
          "name": "stderr",
          "output_type": "stream",
          "text": [
            "\r 75%|███████▌  | 15/20 [00:06<00:01,  2.59it/s]"
          ]
        },
        {
          "name": "stdout",
          "output_type": "stream",
          "text": [
            "Epoch 15/20, Loss: 0.6759\n"
          ]
        },
        {
          "name": "stderr",
          "output_type": "stream",
          "text": [
            "\r 80%|████████  | 16/20 [00:06<00:01,  2.63it/s]"
          ]
        },
        {
          "name": "stdout",
          "output_type": "stream",
          "text": [
            "Epoch 16/20, Loss: 0.6749\n"
          ]
        },
        {
          "name": "stderr",
          "output_type": "stream",
          "text": [
            "\r 85%|████████▌ | 17/20 [00:07<00:01,  2.63it/s]"
          ]
        },
        {
          "name": "stdout",
          "output_type": "stream",
          "text": [
            "Epoch 17/20, Loss: 0.6740\n"
          ]
        },
        {
          "name": "stderr",
          "output_type": "stream",
          "text": [
            "\r 90%|█████████ | 18/20 [00:07<00:00,  2.66it/s]"
          ]
        },
        {
          "name": "stdout",
          "output_type": "stream",
          "text": [
            "Epoch 18/20, Loss: 0.6730\n"
          ]
        },
        {
          "name": "stderr",
          "output_type": "stream",
          "text": [
            "\r 95%|█████████▌| 19/20 [00:07<00:00,  2.66it/s]"
          ]
        },
        {
          "name": "stdout",
          "output_type": "stream",
          "text": [
            "Epoch 19/20, Loss: 0.6723\n"
          ]
        },
        {
          "name": "stderr",
          "output_type": "stream",
          "text": [
            "100%|██████████| 20/20 [00:08<00:00,  2.42it/s]"
          ]
        },
        {
          "name": "stdout",
          "output_type": "stream",
          "text": [
            "Epoch 20/20, Loss: 0.6713\n"
          ]
        },
        {
          "name": "stderr",
          "output_type": "stream",
          "text": [
            "\n"
          ]
        }
      ],
      "source": [
        "# Train the LSTM model\n",
        "for epoch in tqdm(range(epochs)):\n",
        "    LSTM.train()\n",
        "    optimizer_LSTM.zero_grad()\n",
        "    y_pred = LSTM(X_train.float())\n",
        "    loss = criterion(y_pred, y_train)\n",
        "    loss.backward()\n",
        "    optimizer_LSTM.step()\n",
        "    print(f\"Epoch {epoch + 1}/{epochs}, Loss: {loss.item():.4f}\")"
      ]
    },
    {
      "cell_type": "code",
      "execution_count": null,
      "metadata": {
        "colab": {
          "base_uri": "https://localhost:8080/"
        },
        "id": "76g58L_0e6f4",
        "outputId": "2564e02e-3da7-4c66-ade0-a43495d2629a"
      },
      "outputs": [
        {
          "name": "stdout",
          "output_type": "stream",
          "text": [
            "Accuracy: 0.4986\n"
          ]
        }
      ],
      "source": [
        "LSTM.eval()\n",
        "y_pred = LSTM(X_test.float())\n",
        "_, predicted = torch.max(y_pred, 1)\n",
        "accuracy = (predicted == y_test).sum().item() / len(y_test)\n",
        "print(f\"Accuracy: {accuracy:.4f}\")"
      ]
    },
    {
      "cell_type": "code",
      "execution_count": null,
      "metadata": {
        "colab": {
          "base_uri": "https://localhost:8080/"
        },
        "id": "Zcn-znEF2ik5",
        "outputId": "50ad4448-4c5f-416c-f417-7ba6a5aa6a89"
      },
      "outputs": [
        {
          "data": {
            "text/plain": [
              "array([[103, 106],\n",
              "       [ 74,  76]])"
            ]
          },
          "execution_count": 31,
          "metadata": {},
          "output_type": "execute_result"
        }
      ],
      "source": [
        "confusion_matrix(predicted, y_test)"
      ]
    },
    {
      "cell_type": "code",
      "execution_count": null,
      "metadata": {
        "colab": {
          "base_uri": "https://localhost:8080/"
        },
        "id": "aqhFEqVng2dl",
        "outputId": "62cf3004-bf0b-478f-ecd4-13ab85623021"
      },
      "outputs": [
        {
          "name": "stderr",
          "output_type": "stream",
          "text": [
            "  5%|▌         | 1/20 [00:15<04:45, 15.00s/it]"
          ]
        },
        {
          "name": "stdout",
          "output_type": "stream",
          "text": [
            "Epoch 1/20, Loss: 0.6944\n"
          ]
        },
        {
          "name": "stderr",
          "output_type": "stream",
          "text": [
            "\r 10%|█         | 2/20 [00:30<04:31, 15.08s/it]"
          ]
        },
        {
          "name": "stdout",
          "output_type": "stream",
          "text": [
            "Epoch 2/20, Loss: 0.6872\n"
          ]
        },
        {
          "name": "stderr",
          "output_type": "stream",
          "text": [
            "\r 15%|█▌        | 3/20 [00:46<04:26, 15.70s/it]"
          ]
        },
        {
          "name": "stdout",
          "output_type": "stream",
          "text": [
            "Epoch 3/20, Loss: 0.6806\n"
          ]
        },
        {
          "name": "stderr",
          "output_type": "stream",
          "text": [
            "\r 20%|██        | 4/20 [01:01<04:03, 15.23s/it]"
          ]
        },
        {
          "name": "stdout",
          "output_type": "stream",
          "text": [
            "Epoch 4/20, Loss: 0.6740\n"
          ]
        },
        {
          "name": "stderr",
          "output_type": "stream",
          "text": [
            "\r 25%|██▌       | 5/20 [01:15<03:43, 14.90s/it]"
          ]
        },
        {
          "name": "stdout",
          "output_type": "stream",
          "text": [
            "Epoch 5/20, Loss: 0.6669\n"
          ]
        },
        {
          "name": "stderr",
          "output_type": "stream",
          "text": [
            "\r 30%|███       | 6/20 [01:29<03:24, 14.62s/it]"
          ]
        },
        {
          "name": "stdout",
          "output_type": "stream",
          "text": [
            "Epoch 6/20, Loss: 0.6592\n"
          ]
        },
        {
          "name": "stderr",
          "output_type": "stream",
          "text": [
            "\r 35%|███▌      | 7/20 [01:48<03:28, 16.05s/it]"
          ]
        },
        {
          "name": "stdout",
          "output_type": "stream",
          "text": [
            "Epoch 7/20, Loss: 0.6508\n"
          ]
        },
        {
          "name": "stderr",
          "output_type": "stream",
          "text": [
            "\r 40%|████      | 8/20 [02:02<03:06, 15.55s/it]"
          ]
        },
        {
          "name": "stdout",
          "output_type": "stream",
          "text": [
            "Epoch 8/20, Loss: 0.6414\n"
          ]
        },
        {
          "name": "stderr",
          "output_type": "stream",
          "text": [
            "\r 45%|████▌     | 9/20 [02:17<02:47, 15.26s/it]"
          ]
        },
        {
          "name": "stdout",
          "output_type": "stream",
          "text": [
            "Epoch 9/20, Loss: 0.6310\n"
          ]
        },
        {
          "name": "stderr",
          "output_type": "stream",
          "text": [
            "\r 50%|█████     | 10/20 [02:32<02:32, 15.27s/it]"
          ]
        },
        {
          "name": "stdout",
          "output_type": "stream",
          "text": [
            "Epoch 10/20, Loss: 0.6194\n"
          ]
        },
        {
          "name": "stderr",
          "output_type": "stream",
          "text": [
            "\r 55%|█████▌    | 11/20 [02:47<02:14, 14.99s/it]"
          ]
        },
        {
          "name": "stdout",
          "output_type": "stream",
          "text": [
            "Epoch 11/20, Loss: 0.6069\n"
          ]
        },
        {
          "name": "stderr",
          "output_type": "stream",
          "text": [
            "\r 60%|██████    | 12/20 [03:01<01:58, 14.79s/it]"
          ]
        },
        {
          "name": "stdout",
          "output_type": "stream",
          "text": [
            "Epoch 12/20, Loss: 0.5946\n"
          ]
        },
        {
          "name": "stderr",
          "output_type": "stream",
          "text": [
            "\r 65%|██████▌   | 13/20 [03:15<01:41, 14.52s/it]"
          ]
        },
        {
          "name": "stdout",
          "output_type": "stream",
          "text": [
            "Epoch 13/20, Loss: 0.5845\n"
          ]
        },
        {
          "name": "stderr",
          "output_type": "stream",
          "text": [
            "\r 70%|███████   | 14/20 [03:29<01:25, 14.31s/it]"
          ]
        },
        {
          "name": "stdout",
          "output_type": "stream",
          "text": [
            "Epoch 14/20, Loss: 0.5805\n"
          ]
        },
        {
          "name": "stderr",
          "output_type": "stream",
          "text": [
            "\r 75%|███████▌  | 15/20 [03:42<01:10, 14.12s/it]"
          ]
        },
        {
          "name": "stdout",
          "output_type": "stream",
          "text": [
            "Epoch 15/20, Loss: 0.5807\n"
          ]
        },
        {
          "name": "stderr",
          "output_type": "stream",
          "text": [
            "\r 80%|████████  | 16/20 [03:57<00:56, 14.12s/it]"
          ]
        },
        {
          "name": "stdout",
          "output_type": "stream",
          "text": [
            "Epoch 16/20, Loss: 0.5775\n"
          ]
        },
        {
          "name": "stderr",
          "output_type": "stream",
          "text": [
            "\r 85%|████████▌ | 17/20 [04:12<00:43, 14.38s/it]"
          ]
        },
        {
          "name": "stdout",
          "output_type": "stream",
          "text": [
            "Epoch 17/20, Loss: 0.5699\n"
          ]
        },
        {
          "name": "stderr",
          "output_type": "stream",
          "text": [
            "\r 90%|█████████ | 18/20 [04:27<00:29, 14.72s/it]"
          ]
        },
        {
          "name": "stdout",
          "output_type": "stream",
          "text": [
            "Epoch 18/20, Loss: 0.5616\n"
          ]
        },
        {
          "name": "stderr",
          "output_type": "stream",
          "text": [
            "\r 95%|█████████▌| 19/20 [04:41<00:14, 14.63s/it]"
          ]
        },
        {
          "name": "stdout",
          "output_type": "stream",
          "text": [
            "Epoch 19/20, Loss: 0.5552\n"
          ]
        },
        {
          "name": "stderr",
          "output_type": "stream",
          "text": [
            "100%|██████████| 20/20 [04:56<00:00, 14.82s/it]"
          ]
        },
        {
          "name": "stdout",
          "output_type": "stream",
          "text": [
            "Epoch 20/20, Loss: 0.5513\n"
          ]
        },
        {
          "name": "stderr",
          "output_type": "stream",
          "text": [
            "\n"
          ]
        }
      ],
      "source": [
        "# Train the LSTM model on glove\n",
        "for epoch in tqdm(range(epochs)):\n",
        "    optimizer_LSTM_glove.zero_grad()\n",
        "    y_pred = LSTM_glove(glove_tensor_train)\n",
        "    loss = criterion(y_pred, y_train)\n",
        "    loss.backward()\n",
        "    optimizer_LSTM_glove.step()\n",
        "    print(f\"Epoch {epoch + 1}/{epochs}, Loss: {loss.item():.4f}\")"
      ]
    },
    {
      "cell_type": "code",
      "execution_count": null,
      "metadata": {
        "colab": {
          "base_uri": "https://localhost:8080/"
        },
        "id": "ImAWdB0Vg2dm",
        "outputId": "3901aba3-6506-4a90-bbe2-ea31fcaedc29"
      },
      "outputs": [
        {
          "name": "stdout",
          "output_type": "stream",
          "text": [
            "Accuracy: 0.7744\n"
          ]
        }
      ],
      "source": [
        "LSTM_glove.eval()\n",
        "y_pred = LSTM_glove(glove_tensor_test.float())\n",
        "_, predicted = torch.max(y_pred, 1)\n",
        "accuracy = (predicted == y_test).sum().item() / len(y_test)\n",
        "print(f\"Accuracy: {accuracy:.4f}\")"
      ]
    },
    {
      "cell_type": "code",
      "execution_count": null,
      "metadata": {
        "colab": {
          "base_uri": "https://localhost:8080/"
        },
        "id": "MF06UJyQg2dm",
        "outputId": "13dfdee9-1dd4-4d95-b936-b17c016db548"
      },
      "outputs": [
        {
          "data": {
            "text/plain": [
              "array([[138,  42],\n",
              "       [ 39, 140]])"
            ]
          },
          "execution_count": 37,
          "metadata": {},
          "output_type": "execute_result"
        }
      ],
      "source": [
        "confusion_matrix(predicted, y_test)"
      ]
    },
    {
      "cell_type": "code",
      "execution_count": null,
      "metadata": {
        "colab": {
          "base_uri": "https://localhost:8080/"
        },
        "id": "k39hUO8pEEKv",
        "outputId": "d9674a64-a126-4d96-84b9-ba61b304d699"
      },
      "outputs": [
        {
          "name": "stderr",
          "output_type": "stream",
          "text": [
            " 10%|█         | 2/20 [00:00<00:03,  5.57it/s]"
          ]
        },
        {
          "name": "stdout",
          "output_type": "stream",
          "text": [
            "Epoch 1/20, Loss: 0.7276\n",
            "Epoch 2/20, Loss: 0.7276\n"
          ]
        },
        {
          "name": "stderr",
          "output_type": "stream",
          "text": [
            " 20%|██        | 4/20 [00:00<00:02,  5.77it/s]"
          ]
        },
        {
          "name": "stdout",
          "output_type": "stream",
          "text": [
            "Epoch 3/20, Loss: 0.7276\n",
            "Epoch 4/20, Loss: 0.7276\n"
          ]
        },
        {
          "name": "stderr",
          "output_type": "stream",
          "text": [
            " 30%|███       | 6/20 [00:01<00:02,  6.00it/s]"
          ]
        },
        {
          "name": "stdout",
          "output_type": "stream",
          "text": [
            "Epoch 5/20, Loss: 0.7276\n",
            "Epoch 6/20, Loss: 0.7276\n"
          ]
        },
        {
          "name": "stderr",
          "output_type": "stream",
          "text": [
            " 40%|████      | 8/20 [00:01<00:01,  6.14it/s]"
          ]
        },
        {
          "name": "stdout",
          "output_type": "stream",
          "text": [
            "Epoch 7/20, Loss: 0.7276\n",
            "Epoch 8/20, Loss: 0.7276\n"
          ]
        },
        {
          "name": "stderr",
          "output_type": "stream",
          "text": [
            " 50%|█████     | 10/20 [00:01<00:01,  6.15it/s]"
          ]
        },
        {
          "name": "stdout",
          "output_type": "stream",
          "text": [
            "Epoch 9/20, Loss: 0.7276\n",
            "Epoch 10/20, Loss: 0.7276\n"
          ]
        },
        {
          "name": "stderr",
          "output_type": "stream",
          "text": [
            "\r 55%|█████▌    | 11/20 [00:01<00:01,  5.79it/s]"
          ]
        },
        {
          "name": "stdout",
          "output_type": "stream",
          "text": [
            "Epoch 11/20, Loss: 0.7276\n"
          ]
        },
        {
          "name": "stderr",
          "output_type": "stream",
          "text": [
            "\r 60%|██████    | 12/20 [00:02<00:01,  5.38it/s]"
          ]
        },
        {
          "name": "stdout",
          "output_type": "stream",
          "text": [
            "Epoch 12/20, Loss: 0.7276\n"
          ]
        },
        {
          "name": "stderr",
          "output_type": "stream",
          "text": [
            "\r 65%|██████▌   | 13/20 [00:02<00:01,  5.16it/s]"
          ]
        },
        {
          "name": "stdout",
          "output_type": "stream",
          "text": [
            "Epoch 13/20, Loss: 0.7276\n"
          ]
        },
        {
          "name": "stderr",
          "output_type": "stream",
          "text": [
            "\r 70%|███████   | 14/20 [00:02<00:01,  5.04it/s]"
          ]
        },
        {
          "name": "stdout",
          "output_type": "stream",
          "text": [
            "Epoch 14/20, Loss: 0.7276\n"
          ]
        },
        {
          "name": "stderr",
          "output_type": "stream",
          "text": [
            "\r 75%|███████▌  | 15/20 [00:02<00:01,  4.92it/s]"
          ]
        },
        {
          "name": "stdout",
          "output_type": "stream",
          "text": [
            "Epoch 15/20, Loss: 0.7276\n"
          ]
        },
        {
          "name": "stderr",
          "output_type": "stream",
          "text": [
            "\r 80%|████████  | 16/20 [00:02<00:00,  4.76it/s]"
          ]
        },
        {
          "name": "stdout",
          "output_type": "stream",
          "text": [
            "Epoch 16/20, Loss: 0.7276\n"
          ]
        },
        {
          "name": "stderr",
          "output_type": "stream",
          "text": [
            "\r 85%|████████▌ | 17/20 [00:03<00:00,  4.70it/s]"
          ]
        },
        {
          "name": "stdout",
          "output_type": "stream",
          "text": [
            "Epoch 17/20, Loss: 0.7276\n"
          ]
        },
        {
          "name": "stderr",
          "output_type": "stream",
          "text": [
            "\r 90%|█████████ | 18/20 [00:03<00:00,  4.64it/s]"
          ]
        },
        {
          "name": "stdout",
          "output_type": "stream",
          "text": [
            "Epoch 18/20, Loss: 0.7276\n"
          ]
        },
        {
          "name": "stderr",
          "output_type": "stream",
          "text": [
            "\r 95%|█████████▌| 19/20 [00:03<00:00,  4.62it/s]"
          ]
        },
        {
          "name": "stdout",
          "output_type": "stream",
          "text": [
            "Epoch 19/20, Loss: 0.7276\n"
          ]
        },
        {
          "name": "stderr",
          "output_type": "stream",
          "text": [
            "100%|██████████| 20/20 [00:03<00:00,  5.21it/s]"
          ]
        },
        {
          "name": "stdout",
          "output_type": "stream",
          "text": [
            "Epoch 20/20, Loss: 0.7276\n"
          ]
        },
        {
          "name": "stderr",
          "output_type": "stream",
          "text": [
            "\n"
          ]
        }
      ],
      "source": [
        "# Train the GRU model\n",
        "for epoch in tqdm(range(epochs)):\n",
        "    GRU.train()\n",
        "    optimizer_GRU.zero_grad()\n",
        "    y_pred = GRU(X_train.float())\n",
        "    loss = criterion(y_pred, y_train)\n",
        "    loss.backward()\n",
        "    optimizer_GRU.step()\n",
        "    print(f\"Epoch {epoch + 1}/{epochs}, Loss: {loss.item():.4f}\")"
      ]
    },
    {
      "cell_type": "code",
      "execution_count": null,
      "metadata": {
        "colab": {
          "base_uri": "https://localhost:8080/"
        },
        "id": "7RpCCf6tXPt_",
        "outputId": "02ae0fb1-f112-49a9-814a-dabcd56be05c"
      },
      "outputs": [
        {
          "name": "stdout",
          "output_type": "stream",
          "text": [
            "Accuracy: 0.4624\n"
          ]
        }
      ],
      "source": [
        "GRU.eval()\n",
        "y_pred = GRU(X_test.float())\n",
        "_, predicted = torch.max(y_pred, 1)\n",
        "accuracy = (predicted == y_test).sum().item() / len(y_test)\n",
        "print(f\"Accuracy: {accuracy:.4f}\")"
      ]
    },
    {
      "cell_type": "code",
      "execution_count": null,
      "metadata": {
        "colab": {
          "base_uri": "https://localhost:8080/"
        },
        "id": "gTSY7n_X2nJN",
        "outputId": "9ed5b163-41e6-4f53-cfe6-187b9d41726a"
      },
      "outputs": [
        {
          "data": {
            "text/plain": [
              "array([[103, 119],\n",
              "       [ 74,  63]])"
            ]
          },
          "execution_count": 40,
          "metadata": {},
          "output_type": "execute_result"
        }
      ],
      "source": [
        "confusion_matrix(predicted, y_test)"
      ]
    },
    {
      "cell_type": "code",
      "execution_count": null,
      "metadata": {
        "colab": {
          "base_uri": "https://localhost:8080/"
        },
        "id": "jwteU6t7hPby",
        "outputId": "9555a11b-c8ed-4d60-e1f8-c2f1e9c2128e"
      },
      "outputs": [
        {
          "name": "stderr",
          "output_type": "stream",
          "text": [
            "  5%|▌         | 1/20 [00:09<02:58,  9.41s/it]"
          ]
        },
        {
          "name": "stdout",
          "output_type": "stream",
          "text": [
            "Epoch 1/20, Loss: 0.6971\n"
          ]
        },
        {
          "name": "stderr",
          "output_type": "stream",
          "text": [
            "\r 10%|█         | 2/20 [00:18<02:46,  9.26s/it]"
          ]
        },
        {
          "name": "stdout",
          "output_type": "stream",
          "text": [
            "Epoch 2/20, Loss: 0.6845\n"
          ]
        },
        {
          "name": "stderr",
          "output_type": "stream",
          "text": [
            "\r 15%|█▌        | 3/20 [00:27<02:31,  8.92s/it]"
          ]
        },
        {
          "name": "stdout",
          "output_type": "stream",
          "text": [
            "Epoch 3/20, Loss: 0.6760\n"
          ]
        },
        {
          "name": "stderr",
          "output_type": "stream",
          "text": [
            "\r 20%|██        | 4/20 [00:36<02:23,  8.99s/it]"
          ]
        },
        {
          "name": "stdout",
          "output_type": "stream",
          "text": [
            "Epoch 4/20, Loss: 0.6669\n"
          ]
        },
        {
          "name": "stderr",
          "output_type": "stream",
          "text": [
            "\r 25%|██▌       | 5/20 [00:45<02:15,  9.02s/it]"
          ]
        },
        {
          "name": "stdout",
          "output_type": "stream",
          "text": [
            "Epoch 5/20, Loss: 0.6574\n"
          ]
        },
        {
          "name": "stderr",
          "output_type": "stream",
          "text": [
            "\r 30%|███       | 6/20 [00:54<02:08,  9.15s/it]"
          ]
        },
        {
          "name": "stdout",
          "output_type": "stream",
          "text": [
            "Epoch 6/20, Loss: 0.6483\n"
          ]
        },
        {
          "name": "stderr",
          "output_type": "stream",
          "text": [
            "\r 35%|███▌      | 7/20 [01:03<01:55,  8.89s/it]"
          ]
        },
        {
          "name": "stdout",
          "output_type": "stream",
          "text": [
            "Epoch 7/20, Loss: 0.6398\n"
          ]
        },
        {
          "name": "stderr",
          "output_type": "stream",
          "text": [
            "\r 40%|████      | 8/20 [01:12<01:47,  8.98s/it]"
          ]
        },
        {
          "name": "stdout",
          "output_type": "stream",
          "text": [
            "Epoch 8/20, Loss: 0.6314\n"
          ]
        },
        {
          "name": "stderr",
          "output_type": "stream",
          "text": [
            "\r 45%|████▌     | 9/20 [01:21<01:39,  9.05s/it]"
          ]
        },
        {
          "name": "stdout",
          "output_type": "stream",
          "text": [
            "Epoch 9/20, Loss: 0.6225\n"
          ]
        },
        {
          "name": "stderr",
          "output_type": "stream",
          "text": [
            "\r 50%|█████     | 10/20 [01:29<01:28,  8.84s/it]"
          ]
        },
        {
          "name": "stdout",
          "output_type": "stream",
          "text": [
            "Epoch 10/20, Loss: 0.6131\n"
          ]
        },
        {
          "name": "stderr",
          "output_type": "stream",
          "text": [
            "\r 55%|█████▌    | 11/20 [01:39<01:21,  9.02s/it]"
          ]
        },
        {
          "name": "stdout",
          "output_type": "stream",
          "text": [
            "Epoch 11/20, Loss: 0.6035\n"
          ]
        },
        {
          "name": "stderr",
          "output_type": "stream",
          "text": [
            "\r 60%|██████    | 12/20 [01:48<01:12,  9.06s/it]"
          ]
        },
        {
          "name": "stdout",
          "output_type": "stream",
          "text": [
            "Epoch 12/20, Loss: 0.5942\n"
          ]
        },
        {
          "name": "stderr",
          "output_type": "stream",
          "text": [
            "\r 65%|██████▌   | 13/20 [01:57<01:03,  9.14s/it]"
          ]
        },
        {
          "name": "stdout",
          "output_type": "stream",
          "text": [
            "Epoch 13/20, Loss: 0.5852\n"
          ]
        },
        {
          "name": "stderr",
          "output_type": "stream",
          "text": [
            "\r 70%|███████   | 14/20 [02:06<00:53,  8.95s/it]"
          ]
        },
        {
          "name": "stdout",
          "output_type": "stream",
          "text": [
            "Epoch 14/20, Loss: 0.5763\n"
          ]
        },
        {
          "name": "stderr",
          "output_type": "stream",
          "text": [
            "\r 75%|███████▌  | 15/20 [02:15<00:45,  9.00s/it]"
          ]
        },
        {
          "name": "stdout",
          "output_type": "stream",
          "text": [
            "Epoch 15/20, Loss: 0.5683\n"
          ]
        },
        {
          "name": "stderr",
          "output_type": "stream",
          "text": [
            "\r 80%|████████  | 16/20 [02:24<00:36,  9.05s/it]"
          ]
        },
        {
          "name": "stdout",
          "output_type": "stream",
          "text": [
            "Epoch 16/20, Loss: 0.5626\n"
          ]
        },
        {
          "name": "stderr",
          "output_type": "stream",
          "text": [
            "\r 85%|████████▌ | 17/20 [02:32<00:26,  8.85s/it]"
          ]
        },
        {
          "name": "stdout",
          "output_type": "stream",
          "text": [
            "Epoch 17/20, Loss: 0.5589\n"
          ]
        },
        {
          "name": "stderr",
          "output_type": "stream",
          "text": [
            "\r 90%|█████████ | 18/20 [02:42<00:18,  9.01s/it]"
          ]
        },
        {
          "name": "stdout",
          "output_type": "stream",
          "text": [
            "Epoch 18/20, Loss: 0.5580\n"
          ]
        },
        {
          "name": "stderr",
          "output_type": "stream",
          "text": [
            "\r 95%|█████████▌| 19/20 [02:51<00:09,  9.05s/it]"
          ]
        },
        {
          "name": "stdout",
          "output_type": "stream",
          "text": [
            "Epoch 19/20, Loss: 0.5555\n"
          ]
        },
        {
          "name": "stderr",
          "output_type": "stream",
          "text": [
            "100%|██████████| 20/20 [03:00<00:00,  9.03s/it]"
          ]
        },
        {
          "name": "stdout",
          "output_type": "stream",
          "text": [
            "Epoch 20/20, Loss: 0.5510\n"
          ]
        },
        {
          "name": "stderr",
          "output_type": "stream",
          "text": [
            "\n"
          ]
        }
      ],
      "source": [
        "# Train the GRU model on glove\n",
        "for epoch in tqdm(range(epochs)):\n",
        "    optimizer_GRU_glove.zero_grad()\n",
        "    y_pred = GRU_glove(glove_tensor_train)\n",
        "    loss = criterion(y_pred, y_train)\n",
        "    loss.backward()\n",
        "    optimizer_GRU_glove.step()\n",
        "    print(f\"Epoch {epoch + 1}/{epochs}, Loss: {loss.item():.4f}\")"
      ]
    },
    {
      "cell_type": "code",
      "execution_count": null,
      "metadata": {
        "colab": {
          "base_uri": "https://localhost:8080/"
        },
        "id": "UZAv7L_dhPb6",
        "outputId": "948ddab8-ff9a-4187-b50f-690f81114aa9"
      },
      "outputs": [
        {
          "name": "stdout",
          "output_type": "stream",
          "text": [
            "Accuracy: 0.7604\n"
          ]
        }
      ],
      "source": [
        "GRU_glove.eval()\n",
        "y_pred = GRU_glove(glove_tensor_test.float())\n",
        "_, predicted = torch.max(y_pred, 1)\n",
        "accuracy = (predicted == y_test).sum().item() / len(y_test)\n",
        "print(f\"Accuracy: {accuracy:.4f}\")"
      ]
    },
    {
      "cell_type": "code",
      "execution_count": null,
      "metadata": {
        "colab": {
          "base_uri": "https://localhost:8080/"
        },
        "id": "UhJ5_BJMhPb6",
        "outputId": "45135c21-bc19-4238-dabd-b008dfad3496"
      },
      "outputs": [
        {
          "data": {
            "text/plain": [
              "array([[132,  41],\n",
              "       [ 45, 141]])"
            ]
          },
          "execution_count": 51,
          "metadata": {},
          "output_type": "execute_result"
        }
      ],
      "source": [
        "confusion_matrix(predicted, y_test)"
      ]
    }
  ],
  "metadata": {
    "colab": {
      "provenance": []
    },
    "gpuClass": "standard",
    "kernelspec": {
      "display_name": "Python 3",
      "name": "python3"
    },
    "language_info": {
      "codemirror_mode": {
        "name": "ipython",
        "version": 3
      },
      "file_extension": ".py",
      "mimetype": "text/x-python",
      "name": "python",
      "nbconvert_exporter": "python",
      "pygments_lexer": "ipython3",
      "version": "3.11.1"
    }
  },
  "nbformat": 4,
  "nbformat_minor": 0
}
