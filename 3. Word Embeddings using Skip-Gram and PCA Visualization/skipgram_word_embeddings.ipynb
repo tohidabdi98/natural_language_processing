{
  "cells": [
    {
      "cell_type": "code",
      "execution_count": 1,
      "metadata": {
        "id": "hD3j6h-wftB_"
      },
      "outputs": [],
      "source": [
        "import requests\n",
        "import re\n",
        "import string\n",
        "import nltk\n",
        "from nltk.corpus import stopwords\n",
        "from nltk.stem import WordNetLemmatizer\n",
        "from nltk.tokenize import word_tokenize, sent_tokenize\n",
        "import numpy as np\n",
        "import random\n",
        "from collections import defaultdict\n",
        "import matplotlib.pyplot as plt\n",
        "from sklearn.decomposition import PCA"
      ]
    },
    {
      "cell_type": "code",
      "execution_count": 2,
      "metadata": {
        "id": "tVMTvA8Vfwxi"
      },
      "outputs": [],
      "source": [
        "url = \"https://ocw.mit.edu/ans7870/6/6.006/s08/lecturenotes/files/t8.shakespeare.txt\"\n",
        "response = requests.get(url)\n",
        "open(\"text_data.txt\", \"w\").write(response.text)\n",
        "\n",
        "with open(\"text_data.txt\", \"r\", encoding=\"utf-8\") as f:\n",
        "    text = f.read()"
      ]
    },
    {
      "cell_type": "code",
      "execution_count": 3,
      "metadata": {
        "colab": {
          "base_uri": "https://localhost:8080/"
        },
        "id": "gh6xNdqLjjBU",
        "outputId": "fa0e47ef-267f-40e6-ecd8-61b16e69cd95"
      },
      "outputs": [
        {
          "output_type": "stream",
          "name": "stderr",
          "text": [
            "[nltk_data] Downloading package stopwords to /root/nltk_data...\n",
            "[nltk_data]   Unzipping corpora/stopwords.zip.\n",
            "[nltk_data] Downloading package wordnet to /root/nltk_data...\n",
            "[nltk_data] Downloading package punkt to /root/nltk_data...\n",
            "[nltk_data]   Unzipping tokenizers/punkt.zip.\n"
          ]
        }
      ],
      "source": [
        "# Downloading stopwords and lemmatizer\n",
        "nltk.download('stopwords')\n",
        "nltk.download('wordnet')\n",
        "nltk.download('punkt')\n",
        "\n",
        "# Define stopwords and lemmatizer\n",
        "stop_words = set(stopwords.words('english'))\n",
        "lemmatizer = WordNetLemmatizer()\n",
        "\n",
        "def preprocess_text(text):\n",
        "    # Remove special characters and punctuation\n",
        "    text = re.sub(r'[^a-z0-9\\.]', ' ', text)\n",
        "    #text = text.translate(str.maketrans('', '', string.punctuation))\n",
        "    \n",
        "    # Tokenize text into sentences and words\n",
        "    sentences = sent_tokenize(text)\n",
        "    words = [word_tokenize(sentence) for sentence in sentences]\n",
        "    \n",
        "    # Convert to lowercase and remove stopwords\n",
        "    filtered_words = []\n",
        "    for sentence in words:\n",
        "        for word in sentence:\n",
        "            word = word.lower()\n",
        "            if word not in stop_words:\n",
        "                filtered_words.append(word)\n",
        "    \n",
        "    # Lemmatize words\n",
        "    lemmatized_words = []\n",
        "    for word in filtered_words:\n",
        "        lemma_word = lemmatizer.lemmatize(word)\n",
        "        lemmatized_words.append(lemma_word)\n",
        "    \n",
        "    # Join lemmatized words back into sentences\n",
        "    preprocessed_text = ' '.join(lemmatized_words)\n",
        "    return preprocessed_text\n"
      ]
    },
    {
      "cell_type": "code",
      "execution_count": 4,
      "metadata": {
        "id": "xE47wu_ljrnW"
      },
      "outputs": [],
      "source": [
        "preprocessed_text = preprocess_text(text)"
      ]
    },
    {
      "cell_type": "code",
      "execution_count": 5,
      "metadata": {
        "id": "-VVAr3f8U7Cu"
      },
      "outputs": [],
      "source": [
        "sentences = preprocessed_text.split(\".\") # split into sentences\n",
        "list_of_sentences = []\n",
        "for sentence in sentences:\n",
        "    words = sentence.split() # split sentence into words\n",
        "    list_of_sentences.append(words) # add words to list_of_lists\n"
      ]
    },
    {
      "cell_type": "code",
      "execution_count": 6,
      "metadata": {
        "id": "oEJIGTDv7Ju4"
      },
      "outputs": [],
      "source": [
        "class Skipgram:\n",
        "    def __init__(self, corpus, window_size, embedding_size, negative_samples):\n",
        "        self.corpus = corpus\n",
        "        self.window_size = window_size\n",
        "        self.embedding_size = embedding_size\n",
        "        self.negative_samples = negative_samples\n",
        "        \n",
        "        self.word2id = {}\n",
        "        self.id2word = {}\n",
        "        self.vocab_size = 0\n",
        "        self.training_data = []\n",
        "        self.freq_dist = defaultdict(int)\n",
        "        self.neg_dist = None\n",
        "        \n",
        "        self.w = None\n",
        "        self.c = None\n",
        "        self.theta = None\n",
        "        \n",
        "    def build_vocab(self):\n",
        "        for sentence in self.corpus:\n",
        "            for word in sentence:\n",
        "                self.freq_dist[word] += 1\n",
        "        \n",
        "        sorted_vocab = sorted(self.freq_dist.items(), key=lambda x: x[1], reverse=True)\n",
        "        for i, (word, freq) in enumerate(sorted_vocab):\n",
        "            self.word2id[word] = i\n",
        "            self.id2word[i] = word\n",
        "            self.vocab_size += 1\n",
        "            \n",
        "    def generate_training_data(self):\n",
        "        for sentence in self.corpus:\n",
        "            sentence_length = len(sentence)\n",
        "            for i, word in enumerate(sentence):\n",
        "                w_target = self.word2id[word]\n",
        "                \n",
        "                context_words = sentence[max(0, i - self.window_size) : i] + \\\n",
        "                                sentence[i + 1 : min(sentence_length, i + self.window_size + 1)]\n",
        "                \n",
        "                for context_word in context_words:\n",
        "                    c_target = self.word2id[context_word]\n",
        "                    negative_samples = self.generate_negative_samples(w_target, c_target)\n",
        "                    self.training_data.append((w_target, c_target, negative_samples))\n",
        "        \n",
        "    def generate_negative_samples(self, w_target, c_target):\n",
        "        negative_samples = []\n",
        "        while len(negative_samples) < self.negative_samples:\n",
        "            sample = random.randint(0, self.vocab_size - 1)\n",
        "            if sample != w_target and sample != c_target:\n",
        "                negative_samples.append(sample)\n",
        "        return negative_samples\n",
        "    \n",
        "    def initialize_weights(self):\n",
        "        self.w = np.random.uniform(-0.5 / self.embedding_size, 0.5 / self.embedding_size,\n",
        "                                   (self.vocab_size, self.embedding_size))\n",
        "        self.c = np.random.uniform(-0.5 / self.embedding_size, 0.5 / self.embedding_size,\n",
        "                                   (self.vocab_size, self.embedding_size))\n",
        "        self.theta = np.zeros(self.vocab_size)\n",
        "        \n",
        "    def train(self, epochs, learning_rate):\n",
        "        for epoch in range(epochs):\n",
        "            loss = 0\n",
        "            for w_target, c_target, negative_samples in self.training_data:\n",
        "                u = self.w[w_target]\n",
        "                v = self.c[c_target]\n",
        "                negative_vectors = self.c[negative_samples]\n",
        "                \n",
        "                # positive sample loss\n",
        "                pos_loss = -np.log(self.sigmoid(np.dot(u, v.T)))\n",
        "                \n",
        "                # negative sample loss\n",
        "                neg_loss = -np.sum(np.log(self.sigmoid(-np.dot(u, negative_vectors.T))))\n",
        "                \n",
        "                # total loss\n",
        "                total_loss = pos_loss + neg_loss\n",
        "                \n",
        "                # update weights\n",
        "                grad_w_target = (self.sigmoid(np.dot(u, v.T)) - 1) * v + \\\n",
        "                                np.sum((1 - self.sigmoid(-np.dot(u, negative_vectors.T)))[:, None] * negative_vectors, axis=0)\n",
        "                grad_c_target = (self.sigmoid(np.dot(u, v.T)) - 1) * u\n",
        "                grad_neg_samples = np.outer(1 - self.sigmoid(-np.dot(u, negative_vectors.T)), u)\n",
        "            \n",
        "                self.w[w_target] -= learning_rate * grad_w_target\n",
        "                self.c[c_target] -= learning_rate * grad_c_target\n",
        "            \n",
        "                for negative_sample in negative_samples:\n",
        "                    self.c[negative_sample] -= learning_rate * np.sum(grad_neg_samples, axis=0)\n",
        "                \n",
        "                loss += total_loss\n",
        "            \n",
        "            print(f\"Epoch {epoch+1}: loss = {loss}\")\n",
        "            \n",
        "    def sigmoid(self, x):\n",
        "        return 1 / (1 + np.exp(-x))\n",
        "\n",
        "    def get_word_vector(self, word):\n",
        "        word_id = self.word2id[word]\n",
        "        return self.w[word_id] + self.c[word_id]\n",
        "\n",
        "    def get_feature_vectors(self):\n",
        "        feature_vectors = []\n",
        "        for i in range(self.vocab_size):\n",
        "            feature_vectors.append(self.w[i] + self.c[i])\n",
        "        return feature_vectors\n",
        "\n"
      ]
    },
    {
      "cell_type": "code",
      "execution_count": 7,
      "metadata": {
        "id": "r5TBNOgz_XMF"
      },
      "outputs": [],
      "source": [
        "skipgram = Skipgram(list_of_sentences, window_size=2, embedding_size=100, negative_samples=4)\n",
        "skipgram.build_vocab()\n",
        "skipgram.generate_training_data()"
      ]
    },
    {
      "cell_type": "code",
      "execution_count": 12,
      "metadata": {
        "colab": {
          "base_uri": "https://localhost:8080/"
        },
        "id": "4YxoPLLv_elk",
        "outputId": "50d56fab-2508-4f4b-9600-0362f954b7db"
      },
      "outputs": [
        {
          "output_type": "stream",
          "name": "stdout",
          "text": [
            "Epoch 1: loss = 2717726.495797808\n",
            "Epoch 2: loss = 2049367.7321156783\n",
            "Epoch 3: loss = 2013169.1122901235\n",
            "Epoch 4: loss = 1981664.1483934363\n",
            "Epoch 5: loss = 1933821.5178673905\n",
            "Epoch 6: loss = 1867810.3019463788\n",
            "Epoch 7: loss = 1788550.2692564297\n",
            "Epoch 8: loss = 1702618.4372434898\n",
            "Epoch 9: loss = 1616413.5314035558\n",
            "Epoch 10: loss = 1535088.1909846617\n",
            "Epoch 11: loss = 1461791.3788352886\n",
            "Epoch 12: loss = 1398403.4745044105\n",
            "Epoch 13: loss = 1346563.0733049056\n",
            "Epoch 14: loss = 1307371.085652251\n",
            "Epoch 15: loss = 1280784.6673897197\n"
          ]
        }
      ],
      "source": [
        "skipgram.initialize_weights()\n",
        "skipgram.train(epochs=15, learning_rate=0.03)"
      ]
    },
    {
      "cell_type": "code",
      "execution_count": 13,
      "metadata": {
        "id": "Ru-ydtxOU5PJ"
      },
      "outputs": [],
      "source": [
        "words = ['king', 'man', 'queen', 'woman', 'brother', 'sister', 'uncle', 'aunt']\n",
        "vectors = []\n",
        "for word in words:\n",
        "  rep = skipgram.get_word_vector(word)\n",
        "  vectors.append(rep)"
      ]
    },
    {
      "cell_type": "code",
      "execution_count": 28,
      "metadata": {
        "id": "g9Y6UFXnVrXS"
      },
      "outputs": [],
      "source": [
        "# Apply PCA to reduce the dimensionality of X to 2 dimensions\n",
        "pca = PCA(n_components=2)\n",
        "X_2d = pca.fit_transform(vectors)"
      ]
    },
    {
      "cell_type": "code",
      "source": [
        "# Define the points\n",
        "points = dict(zip(words, X_2d))\n",
        "\n",
        "\n",
        "# Create the plot\n",
        "fig, ax = plt.subplots()\n",
        "\n",
        "# Add the points and their labels to the plot\n",
        "for label, point in points.items():\n",
        "    ax.scatter(point[0], point[1])\n",
        "    ax.annotate(label, xy=point)\n",
        "\n",
        "# Connect the edges\n",
        "ax.plot([points['king'][0], points['queen'][0]], [points['king'][1], points['queen'][1]], color='black')\n",
        "ax.plot([points['man'][0], points['woman'][0]], [points['man'][1], points['woman'][1]], color='black')\n",
        "ax.plot([points['brother'][0], points['sister'][0]], [points['brother'][1], points['sister'][1]], color='black')\n",
        "ax.plot([points['uncle'][0], points['aunt'][0]], [points['uncle'][1], points['aunt'][1]], color='black')\n",
        "\n",
        "# Show the plot\n",
        "plt.show()\n"
      ],
      "metadata": {
        "id": "c_2FlYIamXVU",
        "colab": {
          "base_uri": "https://localhost:8080/",
          "height": 430
        },
        "outputId": "1eb9686f-9056-4f65-fcda-1ee5116f7402"
      },
      "execution_count": 31,
      "outputs": [
        {
          "output_type": "display_data",
          "data": {
            "text/plain": [
              "<Figure size 640x480 with 1 Axes>"
            ],
            "image/png": "[encoded data removed]"
          },
          "metadata": {}
        }
      ]
    },
    {
      "cell_type": "code",
      "source": [],
      "metadata": {
        "id": "Lh24mDufud48"
      },
      "execution_count": null,
      "outputs": []
    }
  ],
  "metadata": {
    "colab": {
      "provenance": []
    },
    "gpuClass": "standard",
    "kernelspec": {
      "display_name": "Python 3",
      "name": "python3"
    },
    "language_info": {
      "name": "python"
    }
  },
  "nbformat": 4,
  "nbformat_minor": 0
}
