{
  "cells": [
    {
      "cell_type": "code",
      "execution_count": 6,
      "metadata": {
        "colab": {
          "base_uri": "https://localhost:8080/"
        },
        "id": "J1wXbGygqtDg",
        "outputId": "1605fdd3-1b3a-4cf7-d1ce-763b6cb030be"
      },
      "outputs": [
        {
          "output_type": "stream",
          "name": "stdout",
          "text": [
            "Looking in indexes: https://pypi.org/simple, https://us-python.pkg.dev/colab-wheels/public/simple/\n",
            "Requirement already satisfied: hazm in /usr/local/lib/python3.9/dist-packages (0.7.0)\n",
            "Requirement already satisfied: nltk==3.3 in /usr/local/lib/python3.9/dist-packages (from hazm) (3.3)\n",
            "Requirement already satisfied: libwapiti>=0.2.1 in /usr/local/lib/python3.9/dist-packages (from hazm) (0.2.1)\n",
            "Requirement already satisfied: six in /usr/local/lib/python3.9/dist-packages (from nltk==3.3->hazm) (1.16.0)\n"
          ]
        }
      ],
      "source": [
        "# Install non-existing libraries\n",
        "!pip install hazm"
      ]
    },
    {
      "cell_type": "markdown",
      "source": [],
      "metadata": {
        "id": "bI--nn79MaF5"
      }
    },
    {
      "cell_type": "code",
      "execution_count": 7,
      "metadata": {
        "id": "MseSq9SitHce"
      },
      "outputs": [],
      "source": [
        "# Import necessary libraries\n",
        "from google.colab import files\n",
        "import pandas as pd\n",
        "from sklearn.model_selection import train_test_split\n",
        "from hazm import Normalizer, word_tokenize\n",
        "import numpy as np\n",
        "import math\n",
        "from collections import Counter\n",
        "from sklearn.naive_bayes import GaussianNB, MultinomialNB\n",
        "from sklearn.metrics import recall_score, precision_score, f1_score\n",
        "from itertools import combinations"
      ]
    },
    {
      "cell_type": "code",
      "execution_count": 8,
      "metadata": {
        "colab": {
          "base_uri": "https://localhost:8080/",
          "height": 90
        },
        "id": "ZkMI38dSswro",
        "outputId": "957f39d9-30c9-4703-ca70-be129fd06310"
      },
      "outputs": [
        {
          "output_type": "display_data",
          "data": {
            "text/plain": [
              "<IPython.core.display.HTML object>"
            ],
            "text/html": [
              "\n",
              "     <input type=\"file\" id=\"files-09866b04-b31d-4838-92ab-b19b106673b3\" name=\"files[]\" multiple disabled\n",
              "        style=\"border:none\" />\n",
              "     <output id=\"result-09866b04-b31d-4838-92ab-b19b106673b3\">\n",
              "      Upload widget is only available when the cell has been executed in the\n",
              "      current browser session. Please rerun this cell to enable.\n",
              "      </output>\n",
              "      <script>// Copyright 2017 Google LLC\n",
              "//\n",
              "// Licensed under the Apache License, Version 2.0 (the \"License\");\n",
              "// you may not use this file except in compliance with the License.\n",
              "// You may obtain a copy of the License at\n",
              "//\n",
              "//      http://www.apache.org/licenses/LICENSE-2.0\n",
              "//\n",
              "// Unless required by applicable law or agreed to in writing, software\n",
              "// distributed under the License is distributed on an \"AS IS\" BASIS,\n",
              "// WITHOUT WARRANTIES OR CONDITIONS OF ANY KIND, either express or implied.\n",
              "// See the License for the specific language governing permissions and\n",
              "// limitations under the License.\n",
              "\n",
              "/**\n",
              " * @fileoverview Helpers for google.colab Python module.\n",
              " */\n",
              "(function(scope) {\n",
              "function span(text, styleAttributes = {}) {\n",
              "  const element = document.createElement('span');\n",
              "  element.textContent = text;\n",
              "  for (const key of Object.keys(styleAttributes)) {\n",
              "    element.style[key] = styleAttributes[key];\n",
              "  }\n",
              "  return element;\n",
              "}\n",
              "\n",
              "// Max number of bytes which will be uploaded at a time.\n",
              "const MAX_PAYLOAD_SIZE = 100 * 1024;\n",
              "\n",
              "function _uploadFiles(inputId, outputId) {\n",
              "  const steps = uploadFilesStep(inputId, outputId);\n",
              "  const outputElement = document.getElementById(outputId);\n",
              "  // Cache steps on the outputElement to make it available for the next call\n",
              "  // to uploadFilesContinue from Python.\n",
              "  outputElement.steps = steps;\n",
              "\n",
              "  return _uploadFilesContinue(outputId);\n",
              "}\n",
              "\n",
              "// This is roughly an async generator (not supported in the browser yet),\n",
              "// where there are multiple asynchronous steps and the Python side is going\n",
              "// to poll for completion of each step.\n",
              "// This uses a Promise to block the python side on completion of each step,\n",
              "// then passes the result of the previous step as the input to the next step.\n",
              "function _uploadFilesContinue(outputId) {\n",
              "  const outputElement = document.getElementById(outputId);\n",
              "  const steps = outputElement.steps;\n",
              "\n",
              "  const next = steps.next(outputElement.lastPromiseValue);\n",
              "  return Promise.resolve(next.value.promise).then((value) => {\n",
              "    // Cache the last promise value to make it available to the next\n",
              "    // step of the generator.\n",
              "    outputElement.lastPromiseValue = value;\n",
              "    return next.value.response;\n",
              "  });\n",
              "}\n",
              "\n",
              "/**\n",
              " * Generator function which is called between each async step of the upload\n",
              " * process.\n",
              " * @param {string} inputId Element ID of the input file picker element.\n",
              " * @param {string} outputId Element ID of the output display.\n",
              " * @return {!Iterable<!Object>} Iterable of next steps.\n",
              " */\n",
              "function* uploadFilesStep(inputId, outputId) {\n",
              "  const inputElement = document.getElementById(inputId);\n",
              "  inputElement.disabled = false;\n",
              "\n",
              "  const outputElement = document.getElementById(outputId);\n",
              "  outputElement.innerHTML = '';\n",
              "\n",
              "  const pickedPromise = new Promise((resolve) => {\n",
              "    inputElement.addEventListener('change', (e) => {\n",
              "      resolve(e.target.files);\n",
              "    });\n",
              "  });\n",
              "\n",
              "  const cancel = document.createElement('button');\n",
              "  inputElement.parentElement.appendChild(cancel);\n",
              "  cancel.textContent = 'Cancel upload';\n",
              "  const cancelPromise = new Promise((resolve) => {\n",
              "    cancel.onclick = () => {\n",
              "      resolve(null);\n",
              "    };\n",
              "  });\n",
              "\n",
              "  // Wait for the user to pick the files.\n",
              "  const files = yield {\n",
              "    promise: Promise.race([pickedPromise, cancelPromise]),\n",
              "    response: {\n",
              "      action: 'starting',\n",
              "    }\n",
              "  };\n",
              "\n",
              "  cancel.remove();\n",
              "\n",
              "  // Disable the input element since further picks are not allowed.\n",
              "  inputElement.disabled = true;\n",
              "\n",
              "  if (!files) {\n",
              "    return {\n",
              "      response: {\n",
              "        action: 'complete',\n",
              "      }\n",
              "    };\n",
              "  }\n",
              "\n",
              "  for (const file of files) {\n",
              "    const li = document.createElement('li');\n",
              "    li.append(span(file.name, {fontWeight: 'bold'}));\n",
              "    li.append(span(\n",
              "        `(${file.type || 'n/a'}) - ${file.size} bytes, ` +\n",
              "        `last modified: ${\n",
              "            file.lastModifiedDate ? file.lastModifiedDate.toLocaleDateString() :\n",
              "                                    'n/a'} - `));\n",
              "    const percent = span('0% done');\n",
              "    li.appendChild(percent);\n",
              "\n",
              "    outputElement.appendChild(li);\n",
              "\n",
              "    const fileDataPromise = new Promise((resolve) => {\n",
              "      const reader = new FileReader();\n",
              "      reader.onload = (e) => {\n",
              "        resolve(e.target.result);\n",
              "      };\n",
              "      reader.readAsArrayBuffer(file);\n",
              "    });\n",
              "    // Wait for the data to be ready.\n",
              "    let fileData = yield {\n",
              "      promise: fileDataPromise,\n",
              "      response: {\n",
              "        action: 'continue',\n",
              "      }\n",
              "    };\n",
              "\n",
              "    // Use a chunked sending to avoid message size limits. See b/62115660.\n",
              "    let position = 0;\n",
              "    do {\n",
              "      const length = Math.min(fileData.byteLength - position, MAX_PAYLOAD_SIZE);\n",
              "      const chunk = new Uint8Array(fileData, position, length);\n",
              "      position += length;\n",
              "\n",
              "      const base64 = btoa(String.fromCharCode.apply(null, chunk));\n",
              "      yield {\n",
              "        response: {\n",
              "          action: 'append',\n",
              "          file: file.name,\n",
              "          data: base64,\n",
              "        },\n",
              "      };\n",
              "\n",
              "      let percentDone = fileData.byteLength === 0 ?\n",
              "          100 :\n",
              "          Math.round((position / fileData.byteLength) * 100);\n",
              "      percent.textContent = `${percentDone}% done`;\n",
              "\n",
              "    } while (position < fileData.byteLength);\n",
              "  }\n",
              "\n",
              "  // All done.\n",
              "  yield {\n",
              "    response: {\n",
              "      action: 'complete',\n",
              "    }\n",
              "  };\n",
              "}\n",
              "\n",
              "scope.google = scope.google || {};\n",
              "scope.google.colab = scope.google.colab || {};\n",
              "scope.google.colab._files = {\n",
              "  _uploadFiles,\n",
              "  _uploadFilesContinue,\n",
              "};\n",
              "})(self);\n",
              "</script> "
            ]
          },
          "metadata": {}
        },
        {
          "output_type": "stream",
          "name": "stdout",
          "text": [
            "Saving kaggle.json to kaggle.json\n"
          ]
        },
        {
          "output_type": "execute_result",
          "data": {
            "text/plain": [
              "{'kaggle.json': b'{\"username\":\"tohidabdi98\",\"key\":\"f1a9f6b27a958d9cd3ea2b7476464cca\"}'}"
            ]
          },
          "metadata": {},
          "execution_count": 8
        }
      ],
      "source": [
        "# Upload kaggle api from local machine to Google Colab\n",
        "files.upload()"
      ]
    },
    {
      "cell_type": "code",
      "execution_count": 9,
      "metadata": {
        "id": "Y4MPbXYisxQH"
      },
      "outputs": [],
      "source": [
        "# Authentication credentials for accessing the Kaggle API\n",
        "!mkdir -p ~/.kaggle\n",
        "!cp kaggle.json ~/.kaggle/\n",
        "!chmod 600 ~/.kaggle/kaggle.json"
      ]
    },
    {
      "cell_type": "code",
      "execution_count": 10,
      "metadata": {
        "id": "iCqd4B4NrDdQ",
        "colab": {
          "base_uri": "https://localhost:8080/"
        },
        "outputId": "073dc292-b781-489a-b618-f627cf78e583"
      },
      "outputs": [
        {
          "output_type": "stream",
          "name": "stdout",
          "text": [
            "Downloading snappfood-persian-sentiment-analysis.zip to /content\n",
            "\r  0% 0.00/3.16M [00:00<?, ?B/s]\n",
            "\r100% 3.16M/3.16M [00:00<00:00, 135MB/s]\n",
            "Archive:  /content/snappfood-persian-sentiment-analysis.zip\n",
            "  inflating: Snappfood - Sentiment Analysis.csv  \n"
          ]
        }
      ],
      "source": [
        "# Download the dataset\n",
        "!kaggle datasets download -d soheiltehranipour/snappfood-persian-sentiment-analysis\n",
        "!unzip /content/snappfood-persian-sentiment-analysis.zip"
      ]
    },
    {
      "cell_type": "code",
      "execution_count": null,
      "metadata": {
        "id": "oBRzzPXWtFQW"
      },
      "outputs": [],
      "source": [
        "# Read csv file\n",
        "df = pd.read_csv('/content/Snappfood - Sentiment Analysis.csv', sep=None, engine='python')"
      ]
    },
    {
      "cell_type": "code",
      "execution_count": 12,
      "metadata": {
        "id": "eH72TI92yyAa"
      },
      "outputs": [],
      "source": [
        "# Calculate the required number of rows for each class\n",
        "num_rows_class_sad = int(0.2 * df['label_id'].value_counts()[1])\n",
        "num_rows_class_happy = int(0.2 * df['label_id'].value_counts()[0])\n",
        "\n",
        "# Select the required number of rows from each class\n",
        "df_sampled = df.groupby('label_id').apply(lambda x: x.sample(n=num_rows_class_sad if x['label_id'].iloc[0] == 1 else num_rows_class_happy))\n",
        "\n",
        "# Concatenate the selected rows into a new dataframe\n",
        "df_selected = pd.concat([df_sampled.loc[1], df_sampled.loc[0]])"
      ]
    },
    {
      "cell_type": "code",
      "execution_count": 13,
      "metadata": {
        "id": "W1rwRCvdrX5E",
        "colab": {
          "base_uri": "https://localhost:8080/",
          "height": 206
        },
        "outputId": "3b6aa7c1-fe42-49d3-9e64-1aee91ae6b4a"
      },
      "outputs": [
        {
          "output_type": "execute_result",
          "data": {
            "text/plain": [
              "      Unnamed: 0                                            comment label  \\\n",
              "25097        NaN  متاسفانه در ساندویچ کاهوی خراب پیدا شد. لطفا ک...   SAD   \n",
              "17956        NaN  دیدم یه نفر نوشته بود که شیرینی‌های مونده می‌ف...   SAD   \n",
              "59404        NaN  درسته که غذاتون کیفیتش خوبه اما متاسفانه سرد ب...   SAD   \n",
              "52589        NaN  خوشمزه بودش ولی سس خیلی زیادش باعث می‌شه مزه‌ی...   SAD   \n",
              "54736        NaN  دوبار قبلا این غذا رو مادرم گرفته بود که خیلی ...   SAD   \n",
              "\n",
              "       label_id                                  normalized_tokens  \n",
              "25097       1.0  [متاسفانه, در, ساندویچ, کاهوی, خراب, پیدا, شد,...  \n",
              "17956       1.0  [دیدم, یه, نفر, نوشته_بود, که, شیرینی‌های, مون...  \n",
              "59404       1.0  [درسته, که, غذاتون, کیفیتش, خوبه, اما, متاسفان...  \n",
              "52589       1.0  [خوشمزه, بودش, ولی, سس, خیلی, زیادش, باعث, می‌...  \n",
              "54736       1.0  [دوبار, قبلا, این, غذا, رو, مادرم, گرفته_بود, ...  "
            ],
            "text/html": [
              "\n",
              "  <div id=\"df-ad7da9a1-62a6-4224-9092-195ad09d5219\">\n",
              "    <div class=\"colab-df-container\">\n",
              "      <div>\n",
              "<style scoped>\n",
              "    .dataframe tbody tr th:only-of-type {\n",
              "        vertical-align: middle;\n",
              "    }\n",
              "\n",
              "    .dataframe tbody tr th {\n",
              "        vertical-align: top;\n",
              "    }\n",
              "\n",
              "    .dataframe thead th {\n",
              "        text-align: right;\n",
              "    }\n",
              "</style>\n",
              "<table border=\"1\" class=\"dataframe\">\n",
              "  <thead>\n",
              "    <tr style=\"text-align: right;\">\n",
              "      <th></th>\n",
              "      <th>Unnamed: 0</th>\n",
              "      <th>comment</th>\n",
              "      <th>label</th>\n",
              "      <th>label_id</th>\n",
              "      <th>normalized_tokens</th>\n",
              "    </tr>\n",
              "  </thead>\n",
              "  <tbody>\n",
              "    <tr>\n",
              "      <th>25097</th>\n",
              "      <td>NaN</td>\n",
              "      <td>متاسفانه در ساندویچ کاهوی خراب پیدا شد. لطفا ک...</td>\n",
              "      <td>SAD</td>\n",
              "      <td>1.0</td>\n",
              "      <td>[متاسفانه, در, ساندویچ, کاهوی, خراب, پیدا, شد,...</td>\n",
              "    </tr>\n",
              "    <tr>\n",
              "      <th>17956</th>\n",
              "      <td>NaN</td>\n",
              "      <td>دیدم یه نفر نوشته بود که شیرینی‌های مونده می‌ف...</td>\n",
              "      <td>SAD</td>\n",
              "      <td>1.0</td>\n",
              "      <td>[دیدم, یه, نفر, نوشته_بود, که, شیرینی‌های, مون...</td>\n",
              "    </tr>\n",
              "    <tr>\n",
              "      <th>59404</th>\n",
              "      <td>NaN</td>\n",
              "      <td>درسته که غذاتون کیفیتش خوبه اما متاسفانه سرد ب...</td>\n",
              "      <td>SAD</td>\n",
              "      <td>1.0</td>\n",
              "      <td>[درسته, که, غذاتون, کیفیتش, خوبه, اما, متاسفان...</td>\n",
              "    </tr>\n",
              "    <tr>\n",
              "      <th>52589</th>\n",
              "      <td>NaN</td>\n",
              "      <td>خوشمزه بودش ولی سس خیلی زیادش باعث می‌شه مزه‌ی...</td>\n",
              "      <td>SAD</td>\n",
              "      <td>1.0</td>\n",
              "      <td>[خوشمزه, بودش, ولی, سس, خیلی, زیادش, باعث, می‌...</td>\n",
              "    </tr>\n",
              "    <tr>\n",
              "      <th>54736</th>\n",
              "      <td>NaN</td>\n",
              "      <td>دوبار قبلا این غذا رو مادرم گرفته بود که خیلی ...</td>\n",
              "      <td>SAD</td>\n",
              "      <td>1.0</td>\n",
              "      <td>[دوبار, قبلا, این, غذا, رو, مادرم, گرفته_بود, ...</td>\n",
              "    </tr>\n",
              "  </tbody>\n",
              "</table>\n",
              "</div>\n",
              "      <button class=\"colab-df-convert\" onclick=\"convertToInteractive('df-ad7da9a1-62a6-4224-9092-195ad09d5219')\"\n",
              "              title=\"Convert this dataframe to an interactive table.\"\n",
              "              style=\"display:none;\">\n",
              "        \n",
              "  <svg xmlns=\"http://www.w3.org/2000/svg\" height=\"24px\"viewBox=\"0 0 24 24\"\n",
              "       width=\"24px\">\n",
              "    <path d=\"M0 0h24v24H0V0z\" fill=\"none\"/>\n",
              "    <path d=\"M18.56 5.44l.94 2.06.94-2.06 2.06-.94-2.06-.94-.94-2.06-.94 2.06-2.06.94zm-11 1L8.5 8.5l.94-2.06 2.06-.94-2.06-.94L8.5 2.5l-.94 2.06-2.06.94zm10 10l.94 2.06.94-2.06 2.06-.94-2.06-.94-.94-2.06-.94 2.06-2.06.94z\"/><path d=\"M17.41 7.96l-1.37-1.37c-.4-.4-.92-.59-1.43-.59-.52 0-1.04.2-1.43.59L10.3 9.45l-7.72 7.72c-.78.78-.78 2.05 0 2.83L4 21.41c.39.39.9.59 1.41.59.51 0 1.02-.2 1.41-.59l7.78-7.78 2.81-2.81c.8-.78.8-2.07 0-2.86zM5.41 20L4 18.59l7.72-7.72 1.47 1.35L5.41 20z\"/>\n",
              "  </svg>\n",
              "      </button>\n",
              "      \n",
              "  <style>\n",
              "    .colab-df-container {\n",
              "      display:flex;\n",
              "      flex-wrap:wrap;\n",
              "      gap: 12px;\n",
              "    }\n",
              "\n",
              "    .colab-df-convert {\n",
              "      background-color: #E8F0FE;\n",
              "      border: none;\n",
              "      border-radius: 50%;\n",
              "      cursor: pointer;\n",
              "      display: none;\n",
              "      fill: #1967D2;\n",
              "      height: 32px;\n",
              "      padding: 0 0 0 0;\n",
              "      width: 32px;\n",
              "    }\n",
              "\n",
              "    .colab-df-convert:hover {\n",
              "      background-color: #E2EBFA;\n",
              "      box-shadow: 0px 1px 2px rgba(60, 64, 67, 0.3), 0px 1px 3px 1px rgba(60, 64, 67, 0.15);\n",
              "      fill: #174EA6;\n",
              "    }\n",
              "\n",
              "    [theme=dark] .colab-df-convert {\n",
              "      background-color: #3B4455;\n",
              "      fill: #D2E3FC;\n",
              "    }\n",
              "\n",
              "    [theme=dark] .colab-df-convert:hover {\n",
              "      background-color: #434B5C;\n",
              "      box-shadow: 0px 1px 3px 1px rgba(0, 0, 0, 0.15);\n",
              "      filter: drop-shadow(0px 1px 2px rgba(0, 0, 0, 0.3));\n",
              "      fill: #FFFFFF;\n",
              "    }\n",
              "  </style>\n",
              "\n",
              "      <script>\n",
              "        const buttonEl =\n",
              "          document.querySelector('#df-ad7da9a1-62a6-4224-9092-195ad09d5219 button.colab-df-convert');\n",
              "        buttonEl.style.display =\n",
              "          google.colab.kernel.accessAllowed ? 'block' : 'none';\n",
              "\n",
              "        async function convertToInteractive(key) {\n",
              "          const element = document.querySelector('#df-ad7da9a1-62a6-4224-9092-195ad09d5219');\n",
              "          const dataTable =\n",
              "            await google.colab.kernel.invokeFunction('convertToInteractive',\n",
              "                                                     [key], {});\n",
              "          if (!dataTable) return;\n",
              "\n",
              "          const docLinkHtml = 'Like what you see? Visit the ' +\n",
              "            '<a target=\"_blank\" href=https://colab.research.google.com/notebooks/data_table.ipynb>data table notebook</a>'\n",
              "            + ' to learn more about interactive tables.';\n",
              "          element.innerHTML = '';\n",
              "          dataTable['output_type'] = 'display_data';\n",
              "          await google.colab.output.renderOutput(dataTable, element);\n",
              "          const docLink = document.createElement('div');\n",
              "          docLink.innerHTML = docLinkHtml;\n",
              "          element.appendChild(docLink);\n",
              "        }\n",
              "      </script>\n",
              "    </div>\n",
              "  </div>\n",
              "  "
            ]
          },
          "metadata": {},
          "execution_count": 13
        }
      ],
      "source": [
        "# Create a normalizer object from the hazm library\n",
        "normalizer = Normalizer()\n",
        "\n",
        "# Define a function to normalize and tokenize Persian strings\n",
        "def normalize_and_tokenize(text):\n",
        "    # Normalize the text\n",
        "    normalized_text = normalizer.normalize(text)\n",
        "    \n",
        "    # Tokenize the normalized text\n",
        "    tokens = word_tokenize(normalized_text)\n",
        "    \n",
        "    # Return the tokens as a string\n",
        "    return tokens\n",
        "\n",
        "# Apply the function to the 'text' column of the dataframe\n",
        "df_selected['normalized_tokens'] = df_selected['comment'].apply(normalize_and_tokenize)\n",
        "\n",
        "# Display the results\n",
        "df_selected.head()\n"
      ]
    },
    {
      "cell_type": "code",
      "execution_count": 14,
      "metadata": {
        "id": "1d1K2TUL0PCU"
      },
      "outputs": [],
      "source": [
        "# Split the DataFrame into train and test sets, using 10% for testing\n",
        "train_df, test_df = train_test_split(df_selected, test_size=0.1)"
      ]
    },
    {
      "cell_type": "code",
      "execution_count": 15,
      "metadata": {
        "id": "igZpurxVvY0I"
      },
      "outputs": [],
      "source": [
        "def compute_tf_idf(docs):\n",
        "    N = len(docs)\n",
        "    vocab = set()\n",
        "    for row in train_df['normalized_tokens']:\n",
        "        vocab.update(row)\n",
        "    vocab = list(vocab)\n",
        "    tf_idf = np.zeros((N, len(vocab)))\n",
        "    for doc_id, doc in enumerate(docs):\n",
        "        word_count = Counter(doc)\n",
        "        total_words = len(doc)\n",
        "        for word, count in word_count.items():\n",
        "            # Compute term frequency (TF)\n",
        "            tf = count / total_words\n",
        "            \n",
        "            # Compute inverse document frequency (IDF)\n",
        "            doc_count = sum(1 for d in docs if word in d)\n",
        "            idf = math.log(N / doc_count)\n",
        "            \n",
        "            # Compute TF-IDF score\n",
        "            score = tf * idf\n",
        "\n",
        "            # Store TF-IDF score in matrice\n",
        "            try:\n",
        "                index = vocab.index(word)\n",
        "                tf_idf[doc_id][index] = score\n",
        "            except:\n",
        "                pass\n",
        "    \n",
        "    return tf_idf"
      ]
    },
    {
      "cell_type": "code",
      "execution_count": 16,
      "metadata": {
        "id": "L4oM8CohvZyO"
      },
      "outputs": [],
      "source": [
        "tf_idf_train = compute_tf_idf(train_df['normalized_tokens'])"
      ]
    },
    {
      "cell_type": "code",
      "source": [
        "tf_idf_test = compute_tf_idf(test_df['normalized_tokens'])"
      ],
      "metadata": {
        "id": "Ja6YVGARVGun"
      },
      "execution_count": 17,
      "outputs": []
    },
    {
      "cell_type": "code",
      "source": [
        "# Fit Gaussian naive bayes classifier\n",
        "classifier_GNB = GaussianNB()\n",
        "classifier_GNB.fit(tf_idf_train, train_df['label_id'])\n",
        "\n",
        "# Predict test labels with model\n",
        "y_pred_GNB = classifier_GNB.predict(tf_idf_test)\n",
        "\n",
        "# Evaluation\n",
        "recall_GNB = recall_score(test_df['label_id'], y_pred_GNB)\n",
        "precision_GNB = precision_score(test_df['label_id'], y_pred_GNB)\n",
        "f1_GNB = f1_score(test_df['label_id'], y_pred_GNB)\n",
        "print('Recall = ' + str(recall_GNB) + '\\nPrecision = ' + str(precision_GNB) + '\\nF1 = ' + str(f1_GNB))"
      ],
      "metadata": {
        "colab": {
          "base_uri": "https://localhost:8080/"
        },
        "id": "5CY5yoQ4SOKP",
        "outputId": "a7cbdeeb-1bf5-4e68-ca3d-4eef5866c5f3"
      },
      "execution_count": 18,
      "outputs": [
        {
          "output_type": "stream",
          "name": "stdout",
          "text": [
            "Recall = 0.3805436337625179\n",
            "Precision = 0.6683417085427136\n",
            "F1 = 0.48495897903372825\n"
          ]
        }
      ]
    },
    {
      "cell_type": "code",
      "source": [
        "# Fit Multinomial naive bayes classifier\n",
        "MNBclassifier = MultinomialNB()\n",
        "MNBclassifier.fit(tf_idf_train, train_df['label_id'])\n",
        "\n",
        "# Predict test labels with model\n",
        "y_pred_MNB = MNBclassifier.predict(tf_idf_test)\n",
        "\n",
        "# Evaluation\n",
        "recall_MNB = recall_score(test_df['label_id'], y_pred_MNB)\n",
        "precision_MNB = precision_score(test_df['label_id'], y_pred_MNB)\n",
        "f1_MNB = f1_score(test_df['label_id'], y_pred_MNB)\n",
        "print('Recall = ' + str(recall_MNB) + '\\nPrecision = ' + str(precision_MNB) + '\\nF1 = ' + str(f1_MNB))"
      ],
      "metadata": {
        "colab": {
          "base_uri": "https://localhost:8080/"
        },
        "id": "AV4bN-dQLjla",
        "outputId": "debc51bc-b8da-47b1-c1d3-fe2477576dee"
      },
      "execution_count": 19,
      "outputs": [
        {
          "output_type": "stream",
          "name": "stdout",
          "text": [
            "Recall = 0.894134477825465\n",
            "Precision = 0.7783312577833126\n",
            "F1 = 0.8322237017310252\n"
          ]
        }
      ]
    },
    {
      "cell_type": "code",
      "source": [
        "def compute_ppmi(docs):\n",
        "\n",
        "    # Step 1: Compute vocabulary\n",
        "    vocab = set()\n",
        "    for row in train_df['normalized_tokens']:\n",
        "        vocab.update(row)\n",
        "    \n",
        "    # Step 1: Count word occurrences\n",
        "    word_counts = Counter()\n",
        "    for row in train_df['normalized_tokens']:\n",
        "        word_counts.update(row)\n",
        "\n",
        "    # Step 2: Create co-occurrence matrix\n",
        "    co_occurrence = np.zeros((len(vocab), len(vocab)))\n",
        "    for row in docs:\n",
        "        for word1, word2 in combinations(row, 2):\n",
        "            try:\n",
        "                idx1 = list(vocab).index(word1)\n",
        "                idx2 = list(vocab).index(word2)\n",
        "                co_occurrence[idx1, idx2] += 1\n",
        "                co_occurrence[idx2, idx1] += 1\n",
        "            except:\n",
        "                pass\n",
        "\n",
        "    # Step 3: Calculate PPMI\n",
        "    n = np.sum(co_occurrence)\n",
        "    ppmi = np.zeros((len(vocab), len(vocab)))\n",
        "    for i in range(len(vocab)):\n",
        "        for j in range(i+1, len(vocab)):\n",
        "            if co_occurrence[i,j] == 0:\n",
        "                continue\n",
        "            pmi = np.log2((co_occurrence[i,j] * n) / (word_counts[list(vocab)[i]] * word_counts[list(vocab)[j]]))\n",
        "            ppmi[i,j] = max(pmi, 0)\n",
        "            ppmi[j,i] = max(pmi, 0)\n",
        "    \n",
        "    return ppmi, vocab"
      ],
      "metadata": {
        "id": "6JdC5NYq3Qem"
      },
      "execution_count": 20,
      "outputs": []
    },
    {
      "cell_type": "code",
      "source": [
        "ppmi_coocurrence_matrix, vocab = compute_ppmi(train_df['normalized_tokens'])"
      ],
      "metadata": {
        "id": "PlNLQIHik9zm"
      },
      "execution_count": 21,
      "outputs": []
    },
    {
      "cell_type": "code",
      "source": [
        "# Transform the training data\n",
        "X_train_transformed = []\n",
        "for sentence in train_df['comment']:\n",
        "    words = sentence.split()\n",
        "    vector = np.zeros(len(vocab))\n",
        "    for i, word in enumerate(words):\n",
        "        if word in vocab:\n",
        "            vector[list(vocab).index(word)] += 1\n",
        "    X_train_transformed.append(ppmi_coocurrence_matrix.dot(vector))\n",
        "ppmi_train = np.array(X_train_transformed)\n",
        "\n",
        "# Transform the testing data\n",
        "X_test_transformed = []\n",
        "for sentence in test_df['comment']:\n",
        "    words = sentence.split()\n",
        "    vector = np.zeros(len(vocab))\n",
        "    for i, word in enumerate(words):\n",
        "        if word in vocab:\n",
        "            vector[list(vocab).index(word)] += 1\n",
        "    X_test_transformed.append(ppmi_coocurrence_matrix.dot(vector))\n",
        "ppmi_test = np.array(X_test_transformed)\n"
      ],
      "metadata": {
        "id": "ojJ285fO8tf2"
      },
      "execution_count": 22,
      "outputs": []
    },
    {
      "cell_type": "code",
      "source": [
        "# Fit Gaussian naive bayes classifier\n",
        "classifier_GNB = GaussianNB()\n",
        "classifier_GNB.fit(ppmi_train, train_df['label_id'])\n",
        "\n",
        "# Predict test labels with model\n",
        "y_pred_GNB = classifier_GNB.predict(ppmi_test)\n",
        "\n",
        "# Evaluation\n",
        "recall_GNB = recall_score(test_df['label_id'], y_pred_GNB)\n",
        "precision_GNB = precision_score(test_df['label_id'], y_pred_GNB)\n",
        "f1_GNB = f1_score(test_df['label_id'], y_pred_GNB)\n",
        "print('Recall = ' + str(recall_GNB) + '\\nPrecision = ' + str(precision_GNB) + '\\nF1 = ' + str(f1_GNB))"
      ],
      "metadata": {
        "colab": {
          "base_uri": "https://localhost:8080/"
        },
        "id": "f0bIklS97Fgk",
        "outputId": "6706b452-5bb8-42e2-cb2a-79e031eea5e5"
      },
      "execution_count": 23,
      "outputs": [
        {
          "output_type": "stream",
          "name": "stdout",
          "text": [
            "Recall = 0.2832618025751073\n",
            "Precision = 0.5981873111782477\n",
            "F1 = 0.3844660194174757\n"
          ]
        }
      ]
    },
    {
      "cell_type": "code",
      "source": [
        "# Fit Multinomial naive bayes classifier\n",
        "MNBclassifier = MultinomialNB()\n",
        "MNBclassifier.fit(ppmi_train, train_df['label_id'])\n",
        "\n",
        "# Predict test labels with model\n",
        "y_pred_MNB = MNBclassifier.predict(ppmi_test)\n",
        "\n",
        "# Evaluation\n",
        "recall_MNB = recall_score(test_df['label_id'], y_pred_MNB)\n",
        "precision_MNB = precision_score(test_df['label_id'], y_pred_MNB)\n",
        "f1_MNB = f1_score(test_df['label_id'], y_pred_MNB)\n",
        "print('Recall = ' + str(recall_MNB) + '\\nPrecision = ' + str(precision_MNB) + '\\nF1 = ' + str(f1_MNB))"
      ],
      "metadata": {
        "colab": {
          "base_uri": "https://localhost:8080/"
        },
        "id": "rIYSknzFBhIs",
        "outputId": "7849e85a-9d8e-4163-8658-9b36deda49a3"
      },
      "execution_count": 24,
      "outputs": [
        {
          "output_type": "stream",
          "name": "stdout",
          "text": [
            "Recall = 0.7253218884120172\n",
            "Precision = 0.7201704545454546\n",
            "F1 = 0.7227369921596578\n"
          ]
        }
      ]
    }
  ],
  "metadata": {
    "colab": {
      "provenance": []
    },
    "kernelspec": {
      "display_name": "Python 3",
      "name": "python3"
    },
    "language_info": {
      "name": "python"
    }
  },
  "nbformat": 4,
  "nbformat_minor": 0
}