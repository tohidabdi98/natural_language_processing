{
  "cells": [
    {
      "cell_type": "code",
      "execution_count": null,
      "metadata": {
        "id": "07dwMRGMDEPb"
      },
      "outputs": [],
      "source": [
        "! pip install -U sentence-transformers\n",
        "! pip install datasets\n",
        "! pip install tf_transformers\n",
        "! pip install tensorflow_text\n",
        "! pip install tf-models-official"
      ]
    },
    {
      "cell_type": "code",
      "execution_count": null,
      "metadata": {
        "id": "rauxLhWrCJ2Q"
      },
      "outputs": [],
      "source": [
        "import pandas as pd\n",
        "from sentence_transformers import SentenceTransformer\n",
        "import matplotlib.pyplot as plt\n",
        "from datasets import DatasetDict, Dataset\n",
        "import tensorflow_hub as hub\n",
        "import tensorflow as tf\n",
        "import tensorflow_text as text\n",
        "import numpy as np\n",
        "from tqdm import tqdm\n",
        "import numpy as np\n",
        "from official.nlp import optimization\n",
        "from sklearn.model_selection import train_test_split\n",
        "from tensorflow_addons.optimizers import AdamW\n",
        "from tensorflow import keras\n",
        "from keras.api._v2.keras.backend import dtype\n",
        "from keras.utils.np_utils import to_categorical\n",
        "from sklearn.metrics import accuracy_score, f1_score, confusion_matrix, precision_score, recall_score"
      ]
    },
    {
      "cell_type": "code",
      "execution_count": 3,
      "metadata": {
        "colab": {
          "base_uri": "https://localhost:8080/"
        },
        "id": "FeD9-hbJ9OLc",
        "outputId": "756d59bc-16c5-4279-d774-ec949e84ad11"
      },
      "outputs": [
        {
          "output_type": "stream",
          "name": "stdout",
          "text": [
            "Cloning into 'SentiPers'...\n",
            "remote: Enumerating objects: 424, done.\u001b[K\n",
            "remote: Counting objects: 100% (424/424), done.\u001b[K\n",
            "remote: Compressing objects: 100% (362/362), done.\u001b[K\n",
            "remote: Total 424 (delta 105), reused 336 (delta 58), pack-reused 0\u001b[K\n",
            "Receiving objects: 100% (424/424), 2.96 MiB | 8.68 MiB/s, done.\n",
            "Resolving deltas: 100% (105/105), done.\n"
          ]
        }
      ],
      "source": [
        "! git clone https://github.com/phosseini/SentiPers"
      ]
    },
    {
      "cell_type": "code",
      "execution_count": 4,
      "metadata": {
        "id": "HZ_Xk2P2Z--p"
      },
      "outputs": [],
      "source": [
        "AUTOTUNE = tf.data.AUTOTUNE\n",
        "batch_size = 32\n",
        "seed = 10\n",
        "num_epochs = 30"
      ]
    },
    {
      "cell_type": "code",
      "execution_count": 5,
      "metadata": {
        "id": "cWSNh1tGCj5g"
      },
      "outputs": [],
      "source": [
        "df = pd.read_excel('/content/SentiPers/data/sentipers.xlsx')\n",
        "\n",
        "label_mapping = {-2: 0, -1: 1, 0: 2, 1: 3, 2: 4}\n",
        "df[\"polarity\"] = df[\"polarity\"].map(label_mapping)\n",
        "\n",
        "categorical_labels = to_categorical(df['polarity'], num_classes=5)\n",
        "\n",
        "X_train, X_test_val, y_train, y_test_val = train_test_split(df, categorical_labels, test_size=0.2, shuffle=False)\n",
        "X_val, X_test, y_val, y_test = train_test_split(X_test_val, y_test_val, test_size=0.5, shuffle=False)"
      ]
    },
    {
      "cell_type": "code",
      "execution_count": 6,
      "metadata": {
        "id": "Oj0cCBh9d0D4"
      },
      "outputs": [],
      "source": [
        "X_train = tf.convert_to_tensor(list(X_train['text']), dtype=tf.string)\n",
        "X_val = tf.convert_to_tensor(list(X_val['text']), dtype=tf.string)\n",
        "X_test = tf.convert_to_tensor(list(X_test['text']), dtype=tf.string)"
      ]
    },
    {
      "cell_type": "code",
      "execution_count": 7,
      "metadata": {
        "colab": {
          "base_uri": "https://localhost:8080/",
          "height": 472
        },
        "id": "UmJzv6NhEDbZ",
        "outputId": "5c28d04c-e69d-493a-be37-8a98400c894c"
      },
      "outputs": [
        {
          "output_type": "display_data",
          "data": {
            "text/plain": [
              "<Figure size 640x480 with 1 Axes>"
            ],
            "image/png": "[encoded data removed]"
          },
          "metadata": {}
        }
      ],
      "source": [
        "# Count the number of occurrences for each label\n",
        "label_counts = df['polarity'].value_counts()\n",
        "\n",
        "# Create a bar plot\n",
        "plt.bar(label_counts.index, label_counts.values)\n",
        "plt.xlabel('Label')\n",
        "plt.ylabel('Count')\n",
        "plt.title('Distribution of Labels')\n",
        "plt.show()"
      ]
    },
    {
      "cell_type": "code",
      "execution_count": 8,
      "metadata": {
        "id": "DsPzLE4DKmPj"
      },
      "outputs": [],
      "source": [
        "preprocessor = hub.KerasLayer(\"https://tfhub.dev/google/universal-sentence-encoder-cmlm/multilingual-preprocess/2\")\n",
        "encoder = hub.KerasLayer(\"https://tfhub.dev/google/LaBSE/2\")"
      ]
    },
    {
      "cell_type": "code",
      "execution_count": 9,
      "metadata": {
        "id": "czzulYyhXLBG"
      },
      "outputs": [],
      "source": [
        "text_input = tf.keras.layers.Input(shape=(), dtype=tf.string, name='text')\n",
        "preprocessing_layer = hub.KerasLayer(preprocessor, name='preprocessing')\n",
        "encoder_inputs = preprocessing_layer(text_input)\n",
        "encoder = hub.KerasLayer(encoder, name='LaBSE_encoder')\n",
        "outputs = encoder(encoder_inputs)\n",
        "net1 = outputs['pooled_output']\n",
        "net2 = tf.keras.layers.Dropout(0.1)(net1)\n",
        "out = tf.keras.layers.Dense(5, name='classifier', activation='softmax')(net2)"
      ]
    },
    {
      "cell_type": "code",
      "execution_count": 10,
      "metadata": {
        "colab": {
          "base_uri": "https://localhost:8080/"
        },
        "id": "ioDuelbrYvHO",
        "outputId": "eccdee02-57f5-4e2e-b6e8-0a0206c9ac61"
      },
      "outputs": [
        {
          "output_type": "stream",
          "name": "stdout",
          "text": [
            "Model: \"model\"\n",
            "__________________________________________________________________________________________________\n",
            " Layer (type)                   Output Shape         Param #     Connected to                     \n",
            "==================================================================================================\n",
            " text (InputLayer)              [(None,)]            0           []                               \n",
            "                                                                                                  \n",
            " preprocessing (KerasLayer)     {'input_word_ids':   0           ['text[0][0]']                   \n",
            "                                (None, 128),                                                      \n",
            "                                 'input_mask': (Non                                               \n",
            "                                e, 128),                                                          \n",
            "                                 'input_type_ids':                                                \n",
            "                                (None, 128)}                                                      \n",
            "                                                                                                  \n",
            " LaBSE_encoder (KerasLayer)     {'encoder_outputs':  470926849   ['preprocessing[0][0]',          \n",
            "                                 [(None, 128, 768),               'preprocessing[0][1]',          \n",
            "                                 (None, 128, 768),                'preprocessing[0][2]']          \n",
            "                                 (None, 128, 768),                                                \n",
            "                                 (None, 128, 768),                                                \n",
            "                                 (None, 128, 768),                                                \n",
            "                                 (None, 128, 768),                                                \n",
            "                                 (None, 128, 768),                                                \n",
            "                                 (None, 128, 768),                                                \n",
            "                                 (None, 128, 768),                                                \n",
            "                                 (None, 128, 768),                                                \n",
            "                                 (None, 128, 768),                                                \n",
            "                                 (None, 128, 768)],                                               \n",
            "                                 'default': (None,                                                \n",
            "                                768),                                                             \n",
            "                                 'sequence_output':                                               \n",
            "                                 (None, 128, 768),                                                \n",
            "                                 'pooled_output': (                                               \n",
            "                                None, 768)}                                                       \n",
            "                                                                                                  \n",
            " dropout (Dropout)              (None, 768)          0           ['LaBSE_encoder[0][13]']         \n",
            "                                                                                                  \n",
            " classifier (Dense)             (None, 5)            3845        ['dropout[0][0]']                \n",
            "                                                                                                  \n",
            "==================================================================================================\n",
            "Total params: 470,930,694\n",
            "Trainable params: 3,845\n",
            "Non-trainable params: 470,926,849\n",
            "__________________________________________________________________________________________________\n"
          ]
        }
      ],
      "source": [
        "classifier_model = keras.Model(text_input, out)\n",
        "classifier_model.summary()"
      ]
    },
    {
      "cell_type": "code",
      "execution_count": 11,
      "metadata": {
        "id": "NLBvYr-wYm_t"
      },
      "outputs": [],
      "source": [
        "step = tf.Variable(0, trainable=False)\n",
        "schedule = tf.optimizers.schedules.PiecewiseConstantDecay(\n",
        " [1000], [5e-5,1e-5])\n",
        "lr = 1 * schedule(step)\n",
        "wd = lambda: 1e-6 * schedule(step)\n",
        "optimizer=AdamW(learning_rate=lr,weight_decay=wd)"
      ]
    },
    {
      "cell_type": "code",
      "execution_count": 12,
      "metadata": {
        "id": "8NkazcIuYnpi"
      },
      "outputs": [],
      "source": [
        "classifier_model.compile(loss=\"categorical_crossentropy\",\n",
        " optimizer=optimizer,\n",
        " metrics=['accuracy'])"
      ]
    },
    {
      "cell_type": "code",
      "execution_count": 13,
      "metadata": {
        "id": "VPXcDGFCoqv7"
      },
      "outputs": [],
      "source": [
        "callback = tf.keras.callbacks.EarlyStopping(monitor='val_loss', patience=3)"
      ]
    },
    {
      "cell_type": "code",
      "execution_count": 14,
      "metadata": {
        "id": "_RSCvGY4ZaDQ",
        "colab": {
          "base_uri": "https://localhost:8080/"
        },
        "outputId": "abb3ea6f-ec27-4378-cb3e-0e1995366d52"
      },
      "outputs": [
        {
          "output_type": "stream",
          "name": "stdout",
          "text": [
            "Epoch 1/30\n",
            "393/393 [==============================] - 162s 382ms/step - loss: 1.4147 - accuracy: 0.3757 - val_loss: 1.3188 - val_accuracy: 0.4082\n",
            "Epoch 2/30\n",
            "393/393 [==============================] - 154s 392ms/step - loss: 1.2346 - accuracy: 0.4654 - val_loss: 1.2197 - val_accuracy: 0.4598\n",
            "Epoch 3/30\n",
            "393/393 [==============================] - 155s 394ms/step - loss: 1.1489 - accuracy: 0.5092 - val_loss: 1.1594 - val_accuracy: 0.5051\n",
            "Epoch 4/30\n",
            "393/393 [==============================] - 155s 395ms/step - loss: 1.0933 - accuracy: 0.5410 - val_loss: 1.1107 - val_accuracy: 0.5236\n",
            "Epoch 5/30\n",
            "393/393 [==============================] - 152s 386ms/step - loss: 1.0471 - accuracy: 0.5613 - val_loss: 1.0814 - val_accuracy: 0.5408\n",
            "Epoch 6/30\n",
            "393/393 [==============================] - 155s 394ms/step - loss: 1.0146 - accuracy: 0.5768 - val_loss: 1.0546 - val_accuracy: 0.5625\n",
            "Epoch 7/30\n",
            "393/393 [==============================] - 152s 386ms/step - loss: 0.9872 - accuracy: 0.5922 - val_loss: 1.0361 - val_accuracy: 0.5721\n",
            "Epoch 8/30\n",
            "393/393 [==============================] - 155s 394ms/step - loss: 0.9680 - accuracy: 0.5993 - val_loss: 1.0157 - val_accuracy: 0.5816\n",
            "Epoch 9/30\n",
            "393/393 [==============================] - 152s 387ms/step - loss: 0.9540 - accuracy: 0.6055 - val_loss: 1.0072 - val_accuracy: 0.5848\n",
            "Epoch 10/30\n",
            "393/393 [==============================] - 154s 393ms/step - loss: 0.9382 - accuracy: 0.6117 - val_loss: 0.9955 - val_accuracy: 0.5963\n",
            "Epoch 11/30\n",
            "393/393 [==============================] - 151s 383ms/step - loss: 0.9257 - accuracy: 0.6172 - val_loss: 0.9868 - val_accuracy: 0.5918\n",
            "Epoch 12/30\n",
            "393/393 [==============================] - 156s 396ms/step - loss: 0.9165 - accuracy: 0.6282 - val_loss: 0.9770 - val_accuracy: 0.5969\n",
            "Epoch 13/30\n",
            "393/393 [==============================] - 151s 385ms/step - loss: 0.9073 - accuracy: 0.6247 - val_loss: 0.9710 - val_accuracy: 0.5969\n",
            "Epoch 14/30\n",
            "393/393 [==============================] - 151s 385ms/step - loss: 0.8997 - accuracy: 0.6298 - val_loss: 0.9647 - val_accuracy: 0.6008\n",
            "Epoch 15/30\n",
            "393/393 [==============================] - 151s 384ms/step - loss: 0.8917 - accuracy: 0.6336 - val_loss: 0.9616 - val_accuracy: 0.5982\n",
            "Epoch 16/30\n",
            "393/393 [==============================] - 151s 385ms/step - loss: 0.8891 - accuracy: 0.6349 - val_loss: 0.9534 - val_accuracy: 0.6014\n",
            "Epoch 17/30\n",
            "393/393 [==============================] - 151s 386ms/step - loss: 0.8807 - accuracy: 0.6409 - val_loss: 0.9516 - val_accuracy: 0.6014\n",
            "Epoch 18/30\n",
            "393/393 [==============================] - 151s 385ms/step - loss: 0.8762 - accuracy: 0.6391 - val_loss: 0.9488 - val_accuracy: 0.6001\n",
            "Epoch 19/30\n",
            "393/393 [==============================] - 151s 385ms/step - loss: 0.8704 - accuracy: 0.6423 - val_loss: 0.9473 - val_accuracy: 0.6033\n",
            "Epoch 20/30\n",
            "393/393 [==============================] - 155s 394ms/step - loss: 0.8664 - accuracy: 0.6426 - val_loss: 0.9415 - val_accuracy: 0.6071\n",
            "Epoch 21/30\n",
            "393/393 [==============================] - 151s 385ms/step - loss: 0.8626 - accuracy: 0.6498 - val_loss: 0.9399 - val_accuracy: 0.6065\n",
            "Epoch 22/30\n",
            "393/393 [==============================] - 151s 384ms/step - loss: 0.8614 - accuracy: 0.6467 - val_loss: 0.9351 - val_accuracy: 0.6091\n",
            "Epoch 23/30\n",
            "393/393 [==============================] - 155s 394ms/step - loss: 0.8570 - accuracy: 0.6474 - val_loss: 0.9359 - val_accuracy: 0.6091\n",
            "Epoch 24/30\n",
            "393/393 [==============================] - 150s 382ms/step - loss: 0.8564 - accuracy: 0.6484 - val_loss: 0.9327 - val_accuracy: 0.6116\n",
            "Epoch 25/30\n",
            "393/393 [==============================] - 151s 385ms/step - loss: 0.8528 - accuracy: 0.6506 - val_loss: 0.9321 - val_accuracy: 0.6154\n",
            "Epoch 26/30\n",
            "393/393 [==============================] - 150s 381ms/step - loss: 0.8476 - accuracy: 0.6515 - val_loss: 0.9310 - val_accuracy: 0.6129\n",
            "Epoch 27/30\n",
            "393/393 [==============================] - 151s 385ms/step - loss: 0.8470 - accuracy: 0.6545 - val_loss: 0.9241 - val_accuracy: 0.6237\n",
            "Epoch 28/30\n",
            "393/393 [==============================] - 154s 393ms/step - loss: 0.8448 - accuracy: 0.6534 - val_loss: 0.9258 - val_accuracy: 0.6186\n",
            "Epoch 29/30\n",
            "393/393 [==============================] - 150s 381ms/step - loss: 0.8390 - accuracy: 0.6584 - val_loss: 0.9263 - val_accuracy: 0.6193\n",
            "Epoch 30/30\n",
            "393/393 [==============================] - 151s 385ms/step - loss: 0.8415 - accuracy: 0.6542 - val_loss: 0.9232 - val_accuracy: 0.6173\n"
          ]
        }
      ],
      "source": [
        "history_classifier = classifier_model.fit(X_train, y_train, validation_data=(X_val, y_val), epochs=num_epochs, batch_size=batch_size, callbacks=[callback])"
      ]
    },
    {
      "cell_type": "code",
      "execution_count": 15,
      "metadata": {
        "id": "RUAs5S0uH8MZ",
        "colab": {
          "base_uri": "https://localhost:8080/"
        },
        "outputId": "5dd93507-8c72-463a-8999-92d10bf8160e"
      },
      "outputs": [
        {
          "output_type": "stream",
          "name": "stdout",
          "text": [
            "50/50 [==============================] - 17s 335ms/step\n"
          ]
        }
      ],
      "source": [
        "preds = classifier_model.predict(X_test)\n",
        "class_preds = np.argmax(preds, axis=1)"
      ]
    },
    {
      "cell_type": "code",
      "execution_count": 16,
      "metadata": {
        "id": "fV_vilbsH_yK",
        "colab": {
          "base_uri": "https://localhost:8080/"
        },
        "outputId": "07f4c108-d5a4-4c5c-c314-4e1e4d900dd2"
      },
      "outputs": [
        {
          "output_type": "stream",
          "name": "stdout",
          "text": [
            "Accuracy on test data: 0.6246016571064372\n"
          ]
        }
      ],
      "source": [
        "acc = accuracy_score(class_preds, np.argmax(y_test, axis=1))\n",
        "print(\"Accuracy on test data: \" + str(acc))"
      ]
    },
    {
      "cell_type": "code",
      "execution_count": 17,
      "metadata": {
        "id": "aSp4KwlTqblK",
        "colab": {
          "base_uri": "https://localhost:8080/"
        },
        "outputId": "ee6f6da7-c0a3-4f32-91e1-2c1085a6562d"
      },
      "outputs": [
        {
          "output_type": "stream",
          "name": "stdout",
          "text": [
            "Precision on test data: 0.6246016571064372\n"
          ]
        }
      ],
      "source": [
        "prc = precision_score(class_preds, np.argmax(y_test, axis=1), average='micro')\n",
        "print(\"Precision on test data: \" + str(prc))"
      ]
    },
    {
      "cell_type": "code",
      "execution_count": 18,
      "metadata": {
        "id": "TOBMWQxYqhot",
        "colab": {
          "base_uri": "https://localhost:8080/"
        },
        "outputId": "6a721983-68c9-4433-9112-0b1613dca749"
      },
      "outputs": [
        {
          "output_type": "stream",
          "name": "stdout",
          "text": [
            "Recall on test data: 0.6246016571064372\n"
          ]
        }
      ],
      "source": [
        "rcl = recall_score(class_preds, np.argmax(y_test, axis=1), average='micro')\n",
        "print(\"Recall on test data: \" + str(rcl))"
      ]
    },
    {
      "cell_type": "code",
      "execution_count": 19,
      "metadata": {
        "id": "LD0wvHdLqtLg",
        "colab": {
          "base_uri": "https://localhost:8080/"
        },
        "outputId": "8fe8138f-60da-42f6-d9ab-a65de560ec93"
      },
      "outputs": [
        {
          "output_type": "stream",
          "name": "stdout",
          "text": [
            "F1 on test data: 0.6246016571064372\n"
          ]
        }
      ],
      "source": [
        "f1 = f1_score(class_preds, np.argmax(y_test, axis=1), average='micro')\n",
        "print(\"F1 on test data: \" + str(f1))"
      ]
    },
    {
      "cell_type": "code",
      "execution_count": 20,
      "metadata": {
        "id": "CLYhRBKMqy-6",
        "colab": {
          "base_uri": "https://localhost:8080/"
        },
        "outputId": "86ff055f-d49d-4452-bea4-c8342ab3bb47"
      },
      "outputs": [
        {
          "output_type": "stream",
          "name": "stdout",
          "text": [
            "Confusion Matrix for test data:\n",
            "[[  0   1   0   0   0]\n",
            " [  6  61  23  16   4]\n",
            " [  6  39 447 181  15]\n",
            " [  4  22  73 300  84]\n",
            " [  2   4   7 102 172]]\n"
          ]
        }
      ],
      "source": [
        "cnf = confusion_matrix(class_preds, np.argmax(y_test, axis=1))\n",
        "print(\"Confusion Matrix for test data:\")\n",
        "print(cnf)"
      ]
    },
    {
      "cell_type": "code",
      "execution_count": 21,
      "metadata": {
        "id": "kJd6RUi5w6_n"
      },
      "outputs": [],
      "source": [
        "snapfood_df = pd.read_csv('snapfood_testset.csv')"
      ]
    },
    {
      "cell_type": "code",
      "source": [
        "label_mapping = {\"SAD\": 0, \"HAPPY\": 1}\n",
        "\n",
        "snapfood_df[\"label\"] = snapfood_df[\"label\"].map(label_mapping)"
      ],
      "metadata": {
        "id": "cqmmpb2vxMo-"
      },
      "execution_count": 22,
      "outputs": []
    },
    {
      "cell_type": "code",
      "source": [
        "snappfood_tensor = tf.convert_to_tensor(list(snapfood_df['comment']), dtype=tf.string)"
      ],
      "metadata": {
        "id": "IAE-pePyyoYx"
      },
      "execution_count": 23,
      "outputs": []
    },
    {
      "cell_type": "code",
      "source": [
        "# Count the number of occurrences for each label\n",
        "label_counts = snapfood_df['label'].value_counts()\n",
        "\n",
        "# Create a bar plot\n",
        "plt.bar(label_counts.index, label_counts.values)\n",
        "plt.xlabel('Label')\n",
        "plt.ylabel('Count')\n",
        "plt.title('Distribution of Labels')\n",
        "plt.show()"
      ],
      "metadata": {
        "colab": {
          "base_uri": "https://localhost:8080/",
          "height": 472
        },
        "id": "EkkkmklR4CNP",
        "outputId": "ebc54fed-aa11-48d2-cd78-8a288cd9c05a"
      },
      "execution_count": 24,
      "outputs": [
        {
          "output_type": "display_data",
          "data": {
            "text/plain": [
              "<Figure size 640x480 with 1 Axes>"
            ],
            "image/png": "[encoded data removed]"
          },
          "metadata": {}
        }
      ]
    },
    {
      "cell_type": "code",
      "source": [
        "snapfood_preds = classifier_model.predict(snappfood_tensor)\n",
        "snapfood_class_preds = np.argmax(snapfood_preds, axis=1)"
      ],
      "metadata": {
        "colab": {
          "base_uri": "https://localhost:8080/"
        },
        "id": "z9SQj75-y-Vg",
        "outputId": "342a1ee4-7db5-42d4-e99d-3a0d6ab5ef95"
      },
      "execution_count": 25,
      "outputs": [
        {
          "output_type": "stream",
          "name": "stdout",
          "text": [
            "219/219 [==============================] - 74s 339ms/step\n"
          ]
        }
      ]
    },
    {
      "cell_type": "code",
      "source": [
        "transformed_labels = [0 if val in [0, 1] else 1 for val in snapfood_class_preds]"
      ],
      "metadata": {
        "id": "NpvQ15ft1naC"
      },
      "execution_count": 26,
      "outputs": []
    },
    {
      "cell_type": "code",
      "execution_count": 27,
      "metadata": {
        "colab": {
          "base_uri": "https://localhost:8080/"
        },
        "id": "2ZjwxOft1-GM",
        "outputId": "06b67caa-b09d-4cae-f774-4fbf1c0f9d1e"
      },
      "outputs": [
        {
          "output_type": "stream",
          "name": "stdout",
          "text": [
            "Accuracy on test data: 0.6964285714285714\n"
          ]
        }
      ],
      "source": [
        "acc_snapfood = accuracy_score(transformed_labels, snapfood_df[\"label\"].tolist())\n",
        "print(\"Accuracy on test data: \" + str(acc_snapfood))"
      ]
    },
    {
      "cell_type": "code",
      "execution_count": 28,
      "metadata": {
        "colab": {
          "base_uri": "https://localhost:8080/"
        },
        "id": "EaTtC6m-1-GM",
        "outputId": "918bb91b-124b-4dd3-edb6-9e75a7a1beff"
      },
      "outputs": [
        {
          "output_type": "stream",
          "name": "stdout",
          "text": [
            "Precision on test data: 0.6964285714285714\n"
          ]
        }
      ],
      "source": [
        "prc_snapfood = precision_score(transformed_labels, snapfood_df[\"label\"].tolist(), average='micro')\n",
        "print(\"Precision on test data: \" + str(prc_snapfood))"
      ]
    },
    {
      "cell_type": "code",
      "execution_count": 29,
      "metadata": {
        "colab": {
          "base_uri": "https://localhost:8080/"
        },
        "id": "RPO2L17L1-GN",
        "outputId": "ddae08fd-1faf-4db9-ef59-54c1a4e904b8"
      },
      "outputs": [
        {
          "output_type": "stream",
          "name": "stdout",
          "text": [
            "Recall on test data: 0.6964285714285714\n"
          ]
        }
      ],
      "source": [
        "rcl_snapfood = recall_score(transformed_labels, snapfood_df[\"label\"].tolist(), average='micro')\n",
        "print(\"Recall on test data: \" + str(rcl_snapfood))"
      ]
    },
    {
      "cell_type": "code",
      "execution_count": 30,
      "metadata": {
        "colab": {
          "base_uri": "https://localhost:8080/"
        },
        "id": "Y_zPMq8b1-GN",
        "outputId": "adb6b336-df1c-4e65-e26c-1db3a4638df4"
      },
      "outputs": [
        {
          "output_type": "stream",
          "name": "stdout",
          "text": [
            "F1 on test data: 0.6964285714285714\n"
          ]
        }
      ],
      "source": [
        "f1_snapfood = f1_score(transformed_labels, snapfood_df[\"label\"].tolist(), average='micro')\n",
        "print(\"F1 on test data: \" + str(f1_snapfood))"
      ]
    },
    {
      "cell_type": "code",
      "source": [
        "cnf_snapfood = confusion_matrix(transformed_labels, snapfood_df[\"label\"].tolist())\n",
        "print(\"Confusion Matrix for snapfood data:\")\n",
        "print(cnf_snapfood)"
      ],
      "metadata": {
        "colab": {
          "base_uri": "https://localhost:8080/"
        },
        "id": "hfyNuNTj10GH",
        "outputId": "2779780c-bf49-45f2-84a6-5c895c918d40"
      },
      "execution_count": 31,
      "outputs": [
        {
          "output_type": "stream",
          "name": "stdout",
          "text": [
            "Confusion Matrix for snapfood data:\n",
            "[[1838  463]\n",
            " [1662 3037]]\n"
          ]
        }
      ]
    }
  ],
  "metadata": {
    "accelerator": "GPU",
    "colab": {
      "provenance": []
    },
    "kernelspec": {
      "display_name": "Python 3",
      "name": "python3"
    },
    "language_info": {
      "name": "python"
    }
  },
  "nbformat": 4,
  "nbformat_minor": 0
}
